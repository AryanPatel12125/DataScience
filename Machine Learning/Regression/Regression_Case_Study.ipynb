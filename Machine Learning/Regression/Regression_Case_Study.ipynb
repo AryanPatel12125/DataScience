{
 "cells": [
  {
   "cell_type": "markdown",
   "metadata": {
    "id": "aDk_LZLLXpBz"
   },
   "source": [
    "# Problem Statement\n",
    "To predict the price of a property given some parameters of the house which helps in property evaluation process."
   ]
  },
  {
   "cell_type": "markdown",
   "metadata": {
    "id": "8Kld-f0aX6kQ"
   },
   "source": [
    "# Approach\n",
    "\n",
    "1.   First we will be analysing the data via Exploratory Data Analysis to derive useful insights. This will help us later in the data preprocessing/cleaning stage. We will do the following:\n",
    "\n",
    "*   Check the statistics of the features\n",
    "*   Check the outliers in the numerical features\n",
    "*   Check the distribution of numerical features\n",
    "*   Check the distribution and cardinality of categorical features\n",
    "*   Check the presence of NaN values\n",
    "\n",
    "\n",
    "\n",
    "2.   Next we will be performing the actual preprocessing/cleaning steps required in order to clean the data and convert it into a proper format for the Machine Learning model to train.\n",
    "This is neccessary as the Machine Learning model can only work with specific kind of data and thus data preprocessing is required to convert into that particular format! We will perform the following steps:\n",
    "\n",
    "*   Impute the Missing Values\n",
    "*   Encode the categorical features\n",
    "*   Scale the data\n",
    "\n",
    "\n",
    "\n",
    "3.   Now we will be training the actual Machine Learning model to predict the SalePrice of a property given some input parameters! We will be training 5 Machine Learning models and see which one gives the best resuts.\n",
    "\n",
    "*   Linear Regression\n",
    "*   K Nearest Neighbour\n",
    "*   DecisionTree\n",
    "*   Random Forest\n",
    "*   XGBoost\n",
    "*   Support Vector Machine\n",
    "\n",
    "\n",
    "\n",
    "4.   After training the model, we will tune the Hyperparameters of the models in order to further improve the results.\n",
    "\n",
    "\n",
    "\n",
    "5.   Feature Selection/Engineering phase where we will be removing noisy features and/or combine multiple features into one in order to improve the results. We will be performing following techniques:\n",
    "\n",
    "\n",
    "*   Chisquare pair plot\n",
    "*   Variance Threshold\n",
    "*   NaN value threshold\n",
    "*   Random Forest feature importance"
   ]
  },
  {
   "cell_type": "markdown",
   "metadata": {
    "id": "a1sKZpCzBWqI"
   },
   "source": [
    "MSSubClass: Identifies the type of dwelling involved in the sale.\n",
    "\n",
    "    20    1-STORY 1946 & NEWER ALL STYLES\n",
    "    30    1-STORY 1945 & OLDER\n",
    "    40    1-STORY W/FINISHED ATTIC ALL AGES\n",
    "    45    1-1/2 STORY - UNFINISHED ALL AGES\n",
    "    50    1-1/2 STORY FINISHED ALL AGES\n",
    "    60    2-STORY 1946 & NEWER\n",
    "    70    2-STORY 1945 & OLDER\n",
    "    75    2-1/2 STORY ALL AGES\n",
    "    80    SPLIT OR MULTI-LEVEL\n",
    "    85    SPLIT FOYER\n",
    "    90    DUPLEX - ALL STYLES AND AGES\n",
    "    120    1-STORY PUD (Planned Unit Development) - 1946 & NEWER\n",
    "    150    1-1/2 STORY PUD - ALL AGES\n",
    "    160    2-STORY PUD - 1946 & NEWER\n",
    "    180    PUD - MULTILEVEL - INCL SPLIT LEV/FOYER\n",
    "    190    2 FAMILY CONVERSION - ALL STYLES AND AGES\n",
    "\n",
    "MSZoning: Identifies the general zoning classification of the sale.\n",
    "\n",
    "    A    Agriculture\n",
    "    C    Commercial\n",
    "    FV    Floating Village Residential\n",
    "    I    Industrial\n",
    "    RH    Residential High Density\n",
    "    RL    Residential Low Density\n",
    "    RP    Residential Low Density Park \n",
    "    RM    Residential Medium Density\n",
    "\n",
    "LotFrontage: Linear feet of street connected to property\n",
    "\n",
    "LotArea: Lot size in square feet\n",
    "\n",
    "Street: Type of road access to property\n",
    "\n",
    "    Grvl    Gravel  \n",
    "    Pave    Paved\n",
    "\n",
    "Alley: Type of alley access to property\n",
    "\n",
    "    Grvl    Gravel\n",
    "    Pave    Paved\n",
    "    NA     No alley access\n",
    "\n",
    "LotShape: General shape of property\n",
    "\n",
    "    Reg    Regular \n",
    "    IR1    Slightly irregular\n",
    "    IR2    Moderately Irregular\n",
    "    IR3    Irregular\n",
    "\n",
    "LandContour: Flatness of the property\n",
    "\n",
    "    Lvl    Near Flat/Level \n",
    "    Bnk    Banked - Quick and significant rise from street grade to building\n",
    "    HLS    Hillside - Significant slope from side to side\n",
    "    Low    Depression\n",
    "\n",
    "Utilities: Type of utilities available\n",
    "\n",
    "    AllPub    All public Utilities (E,G,W,& S)    \n",
    "    NoSewr    Electricity, Gas, and Water (Septic Tank)\n",
    "    NoSeWa    Electricity and Gas Only\n",
    "    ELO    Electricity only    \n",
    "\n",
    "LotConfig: Lot configuration\n",
    "\n",
    "    Inside    Inside lot\n",
    "    Corner    Corner lot\n",
    "    CulDSac    Cul-de-sac\n",
    "    FR2    Frontage on 2 sides of property\n",
    "    FR3    Frontage on 3 sides of property\n",
    "\n",
    "LandSlope: Slope of property\n",
    "\n",
    "    Gtl    Gentle slope\n",
    "    Mod    Moderate Slope  \n",
    "    Sev    Severe Slope\n",
    "\n",
    "Neighborhood: Physical locations within Ames city limits\n",
    "\n",
    "    Blmngtn    Bloomington Heights\n",
    "    Blueste    Bluestem\n",
    "    BrDale    Briardale\n",
    "    BrkSide    Brookside\n",
    "    ClearCr    Clear Creek\n",
    "    CollgCr    College Creek\n",
    "    Crawfor    Crawford\n",
    "    Edwards    Edwards\n",
    "    Gilbert    Gilbert\n",
    "    IDOTRR    Iowa DOT and Rail Road\n",
    "    MeadowV    Meadow Village\n",
    "    Mitchel    Mitchell\n",
    "    Names    North Ames\n",
    "    NoRidge    Northridge\n",
    "    NPkVill    Northpark Villa\n",
    "    NridgHt    Northridge Heights\n",
    "    NWAmes    Northwest Ames\n",
    "    OldTown    Old Town\n",
    "    SWISU    South & West of Iowa State University\n",
    "    Sawyer    Sawyer\n",
    "    SawyerW    Sawyer West\n",
    "    Somerst    Somerset\n",
    "    StoneBr    Stone Brook\n",
    "    Timber    Timberland\n",
    "    Veenker    Veenker\n",
    "\n",
    "Condition1: Proximity to various conditions\n",
    "\n",
    "    Artery    Adjacent to arterial street\n",
    "    Feedr    Adjacent to feeder street   \n",
    "    Norm    Normal  \n",
    "    RRNn    Within 200' of North-South Railroad\n",
    "    RRAn    Adjacent to North-South Railroad\n",
    "    PosN    Near positive off-site feature--park, greenbelt, etc.\n",
    "    PosA    Adjacent to postive off-site feature\n",
    "    RRNe    Within 200' of East-West Railroad\n",
    "    RRAe    Adjacent to East-West Railroad\n",
    "\n",
    "Condition2: Proximity to various conditions (if more than one is present)\n",
    "\n",
    "    Artery    Adjacent to arterial street\n",
    "    Feedr    Adjacent to feeder street   \n",
    "    Norm    Normal  \n",
    "    RRNn    Within 200' of North-South Railroad\n",
    "    RRAn    Adjacent to North-South Railroad\n",
    "    PosN    Near positive off-site feature--park, greenbelt, etc.\n",
    "    PosA    Adjacent to postive off-site feature\n",
    "    RRNe    Within 200' of East-West Railroad\n",
    "    RRAe    Adjacent to East-West Railroad\n",
    "\n",
    "BldgType: Type of dwelling\n",
    "\n",
    "    1Fam    Single-family Detached  \n",
    "    2FmCon    Two-family Conversion; originally built as one-family dwelling\n",
    "    Duplx    Duplex\n",
    "    TwnhsE    Townhouse End Unit\n",
    "    TwnhsI    Townhouse Inside Unit\n",
    "\n",
    "HouseStyle: Style of dwelling\n",
    "\n",
    "    1Story    One story\n",
    "    1.5Fin    One and one-half story: 2nd level finished\n",
    "    1.5Unf    One and one-half story: 2nd level unfinished\n",
    "    2Story    Two story\n",
    "    2.5Fin    Two and one-half story: 2nd level finished\n",
    "    2.5Unf    Two and one-half story: 2nd level unfinished\n",
    "    SFoyer    Split Foyer\n",
    "    SLvl    Split Level\n",
    "\n",
    "OverallQual: Rates the overall material and finish of the house\n",
    "\n",
    "    10    Very Excellent\n",
    "    9    Excellent\n",
    "    8    Very Good\n",
    "    7    Good\n",
    "    6    Above Average\n",
    "    5    Average\n",
    "    4    Below Average\n",
    "    3    Fair\n",
    "    2    Poor\n",
    "    1    Very Poor\n",
    "\n",
    "OverallCond: Rates the overall condition of the house\n",
    "\n",
    "    10    Very Excellent\n",
    "    9    Excellent\n",
    "    8    Very Good\n",
    "    7    Good\n",
    "    6    Above Average   \n",
    "    5    Average\n",
    "    4    Below Average   \n",
    "    3    Fair\n",
    "    2    Poor\n",
    "    1    Very Poor\n",
    "\n",
    "YearBuilt: Original construction date\n",
    "\n",
    "YearRemodAdd: Remodel date (same as construction date if no remodeling or additions)\n",
    "\n",
    "RoofStyle: Type of roof\n",
    "\n",
    "    Flat    Flat\n",
    "    Gable    Gable\n",
    "    Gambrel    Gabrel (Barn)\n",
    "    Hip    Hip\n",
    "    Mansard    Mansard\n",
    "    Shed    Shed\n",
    "\n",
    "RoofMatl: Roof material\n",
    "\n",
    "    ClyTile    Clay or Tile\n",
    "    CompShg    Standard (Composite) Shingle\n",
    "    Membran    Membrane\n",
    "    Metal    Metal\n",
    "    Roll    Roll\n",
    "    Tar&Grv    Gravel & Tar\n",
    "    WdShake    Wood Shakes\n",
    "    WdShngl    Wood Shingles\n",
    "\n",
    "Exterior1st: Exterior covering on house\n",
    "\n",
    "    AsbShng    Asbestos Shingles\n",
    "    AsphShn    Asphalt Shingles\n",
    "    BrkComm    Brick Common\n",
    "    BrkFace    Brick Face\n",
    "    CBlock    Cinder Block\n",
    "    CemntBd    Cement Board\n",
    "    HdBoard    Hard Board\n",
    "    ImStucc    Imitation Stucco\n",
    "    MetalSd    Metal Siding\n",
    "    Other    Other\n",
    "    Plywood    Plywood\n",
    "    PreCast    PreCast \n",
    "    Stone    Stone\n",
    "    Stucco    Stucco\n",
    "    VinylSd    Vinyl Siding\n",
    "    Wd Sdng    Wood Siding\n",
    "    WdShing    Wood Shingles\n",
    "\n",
    "Exterior2nd: Exterior covering on house (if more than one material)\n",
    "\n",
    "    AsbShng    Asbestos Shingles\n",
    "    AsphShn    Asphalt Shingles\n",
    "    BrkComm    Brick Common\n",
    "    BrkFace    Brick Face\n",
    "    CBlock    Cinder Block\n",
    "    CemntBd    Cement Board\n",
    "    HdBoard    Hard Board\n",
    "    ImStucc    Imitation Stucco\n",
    "    MetalSd    Metal Siding\n",
    "    Other    Other\n",
    "    Plywood    Plywood\n",
    "    PreCast    PreCast\n",
    "    Stone    Stone\n",
    "    Stucco    Stucco\n",
    "    VinylSd    Vinyl Siding\n",
    "    Wd Sdng    Wood Siding\n",
    "    WdShing    Wood Shingles\n",
    "\n",
    "MasVnrType: Masonry veneer type\n",
    "\n",
    "    BrkCmn    Brick Common\n",
    "    BrkFace    Brick Face\n",
    "    CBlock    Cinder Block\n",
    "    None    None\n",
    "    Stone    Stone\n",
    "\n",
    "MasVnrArea: Masonry veneer area in square feet\n",
    "\n",
    "ExterQual: Evaluates the quality of the material on the exterior\n",
    "\n",
    "    Ex    Excellent\n",
    "    Gd    Good\n",
    "    TA    Average/Typical\n",
    "    Fa    Fair\n",
    "    Po    Poor\n",
    "\n",
    "ExterCond: Evaluates the present condition of the material on the exterior\n",
    "\n",
    "    Ex    Excellent\n",
    "    Gd    Good\n",
    "    TA    Average/Typical\n",
    "    Fa    Fair\n",
    "    Po    Poor\n",
    "\n",
    "Foundation: Type of foundation\n",
    "\n",
    "    BrkTil    Brick & Tile\n",
    "    CBlock    Cinder Block\n",
    "    PConc    Poured Contrete \n",
    "    Slab    Slab\n",
    "    Stone    Stone\n",
    "    Wood    Wood\n",
    "\n",
    "BsmtQual: Evaluates the height of the basement\n",
    "\n",
    "    Ex    Excellent (100+ inches) \n",
    "    Gd    Good (90-99 inches)\n",
    "    TA    Typical (80-89 inches)\n",
    "    Fa    Fair (70-79 inches)\n",
    "    Po    Poor (<70 inches\n",
    "    NA    No Basement\n",
    "\n",
    "BsmtCond: Evaluates the general condition of the basement\n",
    "\n",
    "    Ex    Excellent\n",
    "    Gd    Good\n",
    "    TA    Typical - slight dampness allowed\n",
    "    Fa    Fair - dampness or some cracking or settling\n",
    "    Po    Poor - Severe cracking, settling, or wetness\n",
    "    NA    No Basement\n",
    "\n",
    "BsmtExposure: Refers to walkout or garden level walls\n",
    "\n",
    "    Gd    Good Exposure\n",
    "    Av    Average Exposure (split levels or foyers typically score average or above)  \n",
    "    Mn    Mimimum Exposure\n",
    "    No    No Exposure\n",
    "    NA    No Basement\n",
    "\n",
    "BsmtFinType1: Rating of basement finished area\n",
    "\n",
    "    GLQ    Good Living Quarters\n",
    "    ALQ    Average Living Quarters\n",
    "    BLQ    Below Average Living Quarters   \n",
    "    Rec    Average Rec Room\n",
    "    LwQ    Low Quality\n",
    "    Unf    Unfinshed\n",
    "    NA    No Basement\n",
    "\n",
    "BsmtFinSF1: Type 1 finished square feet\n",
    "\n",
    "BsmtFinType2: Rating of basement finished area (if multiple types)\n",
    "\n",
    "    GLQ    Good Living Quarters\n",
    "    ALQ    Average Living Quarters\n",
    "    BLQ    Below Average Living Quarters   \n",
    "    Rec    Average Rec Room\n",
    "    LwQ    Low Quality\n",
    "    Unf    Unfinshed\n",
    "    NA    No Basement\n",
    "\n",
    "BsmtFinSF2: Type 2 finished square feet\n",
    "\n",
    "BsmtUnfSF: Unfinished square feet of basement area\n",
    "\n",
    "TotalBsmtSF: Total square feet of basement area\n",
    "\n",
    "Heating: Type of heating\n",
    "\n",
    "    Floor    Floor Furnace\n",
    "    GasA    Gas forced warm air furnace\n",
    "    GasW    Gas hot water or steam heat\n",
    "    Grav    Gravity furnace \n",
    "    OthW    Hot water or steam heat other than gas\n",
    "    Wall    Wall furnace\n",
    "\n",
    "HeatingQC: Heating quality and condition\n",
    "\n",
    "    Ex    Excellent\n",
    "    Gd    Good\n",
    "    TA    Average/Typical\n",
    "    Fa    Fair\n",
    "    Po    Poor\n",
    "\n",
    "CentralAir: Central air conditioning\n",
    "\n",
    "    N    No\n",
    "    Y    Yes\n",
    "\n",
    "Electrical: Electrical system\n",
    "\n",
    "    SBrkr    Standard Circuit Breakers & Romex\n",
    "    FuseA    Fuse Box over 60 AMP and all Romex wiring (Average) \n",
    "    FuseF    60 AMP Fuse Box and mostly Romex wiring (Fair)\n",
    "    FuseP    60 AMP Fuse Box and mostly knob & tube wiring (poor)\n",
    "    Mix    Mixed\n",
    "\n",
    "1stFlrSF: First Floor square feet\n",
    "\n",
    "2ndFlrSF: Second floor square feet\n",
    "\n",
    "LowQualFinSF: Low quality finished square feet (all floors)\n",
    "\n",
    "GrLivArea: Above grade (ground) living area square feet\n",
    "\n",
    "BsmtFullBath: Basement full bathrooms\n",
    "\n",
    "BsmtHalfBath: Basement half bathrooms\n",
    "\n",
    "FullBath: Full bathrooms above grade\n",
    "\n",
    "HalfBath: Half baths above grade\n",
    "\n",
    "Bedroom: Bedrooms above grade (does NOT include basement bedrooms)\n",
    "\n",
    "Kitchen: Kitchens above grade\n",
    "\n",
    "KitchenQual: Kitchen quality\n",
    "\n",
    "    Ex    Excellent\n",
    "    Gd    Good\n",
    "    TA    Typical/Average\n",
    "    Fa    Fair\n",
    "    Po    Poor\n",
    "\n",
    "TotRmsAbvGrd: Total rooms above grade (does not include bathrooms)\n",
    "\n",
    "Functional: Home functionality (Assume typical unless deductions are warranted)\n",
    "\n",
    "    Typ    Typical Functionality\n",
    "    Min1    Minor Deductions 1\n",
    "    Min2    Minor Deductions 2\n",
    "    Mod    Moderate Deductions\n",
    "    Maj1    Major Deductions 1\n",
    "    Maj2    Major Deductions 2\n",
    "    Sev    Severely Damaged\n",
    "    Sal    Salvage only\n",
    "\n",
    "Fireplaces: Number of fireplaces\n",
    "\n",
    "FireplaceQu: Fireplace quality\n",
    "\n",
    "    Ex    Excellent - Exceptional Masonry Fireplace\n",
    "    Gd    Good - Masonry Fireplace in main level\n",
    "    TA    Average - Prefabricated Fireplace in main living area or \n",
    "    \n",
    "Masonry Fireplace in basement\n",
    "    Fa    Fair - Prefabricated Fireplace in basement\n",
    "    Po    Poor - Ben Franklin Stove\n",
    "    NA    No Fireplace\n",
    "\n",
    "GarageType: Garage location\n",
    "\n",
    "    2Types    More than one type of garage\n",
    "    Attchd    Attached to home\n",
    "    Basment    Basement Garage\n",
    "    BuiltIn    Built-In (Garage part of house - typically has room above garage)\n",
    "    CarPort    Car Port\n",
    "    Detchd    Detached from home\n",
    "    NA    No Garage\n",
    "\n",
    "GarageYrBlt: Year garage was built\n",
    "\n",
    "GarageFinish: Interior finish of the garage\n",
    "\n",
    "    Fin    Finished\n",
    "    RFn    Rough Finished  \n",
    "    Unf    Unfinished\n",
    "    NA    No Garage\n",
    "\n",
    "GarageCars: Size of garage in car capacity\n",
    "\n",
    "GarageArea: Size of garage in square feet\n",
    "\n",
    "GarageQual: Garage quality\n",
    "\n",
    "    Ex    Excellent\n",
    "    Gd    Good\n",
    "    TA    Typical/Average\n",
    "    Fa    Fair\n",
    "    Po    Poor\n",
    "    NA    No Garage\n",
    "\n",
    "GarageCond: Garage condition\n",
    "\n",
    "    Ex    Excellent\n",
    "    Gd    Good\n",
    "    TA    Typical/Average\n",
    "    Fa    Fair\n",
    "    Po    Poor\n",
    "    NA    No Garage\n",
    "\n",
    "PavedDrive: Paved driveway\n",
    "\n",
    "    Y    Paved \n",
    "    P    Partial Pavement\n",
    "    N    Dirt/Gravel\n",
    "\n",
    "WoodDeckSF: Wood deck area in square feet\n",
    "\n",
    "OpenPorchSF: Open porch area in square feet\n",
    "\n",
    "EnclosedPorch: Enclosed porch area in square feet\n",
    "\n",
    "3SsnPorch: Three season porch area in square feet\n",
    "\n",
    "ScreenPorch: Screen porch area in square feet\n",
    "\n",
    "PoolArea: Pool area in square feet\n",
    "\n",
    "PoolQC: Pool quality\n",
    "\n",
    "    Ex    Excellent\n",
    "    Gd    Good\n",
    "    TA    Average/Typical\n",
    "    Fa    Fair\n",
    "    NA    No Pool\n",
    "\n",
    "Fence: Fence quality\n",
    "\n",
    "    GdPrv    Good Privacy\n",
    "    MnPrv    Minimum Privacy\n",
    "    GdWo    Good Wood\n",
    "    MnWw    Minimum Wood/Wire\n",
    "    NA    No Fence\n",
    "\n",
    "MiscFeature: Miscellaneous feature not covered in other categories\n",
    "\n",
    "    Elev    Elevator\n",
    "    Gar2    2nd Garage (if not described in garage section)\n",
    "    Othr    Other\n",
    "    Shed    Shed (over 100 SF)\n",
    "    TenC    Tennis Court\n",
    "    NA    None\n",
    "\n",
    "MiscVal: $Value of miscellaneous feature\n",
    "\n",
    "MoSold: Month Sold (MM)\n",
    "\n",
    "YrSold: Year Sold (YYYY)\n",
    "\n",
    "SaleType: Type of sale\n",
    "\n",
    "    WD     Warranty Deed - Conventional\n",
    "    CWD    Warranty Deed - Cash\n",
    "    VWD    Warranty Deed - VA Loan\n",
    "    New    Home just constructed and sold\n",
    "    COD    Court Officer Deed/Estate\n",
    "    Con    Contract 15% Down payment regular terms\n",
    "    ConLw    Contract Low Down payment and low interest\n",
    "    ConLI    Contract Low Interest\n",
    "    ConLD    Contract Low Down\n",
    "    Oth    Other\n",
    "\n",
    "SaleCondition: Condition of sale\n",
    "\n",
    "    Normal    Normal Sale\n",
    "    Abnorml    Abnormal Sale -  trade, foreclosure, short sale\n",
    "    AdjLand    Adjoining Land Purchase\n",
    "    Alloca    Allocation - two linked properties with separate deeds, typically condo with a garage unit  \n",
    "    Family    Sale between family members\n",
    "    Partial    Home was not completed when last assessed (associated with New Homes)"
   ]
  },
  {
   "cell_type": "markdown",
   "metadata": {
    "id": "aPaZDQ9uvata"
   },
   "source": [
    "***IMPORTING REQUIRED LIBRARIES***"
   ]
  },
  {
   "cell_type": "code",
   "execution_count": null,
   "metadata": {
    "id": "A1LefJEZdjpU",
    "scrolled": true
   },
   "outputs": [],
   "source": [
    "import os\n",
    "import warnings\n",
    "import matplotlib.pyplot as plt\n",
    "import pandas as pd\n",
    "import numpy as np\n",
    "import seaborn as sns\n",
    "import warnings\n",
    "\n",
    "%matplotlib inline\n",
    "warnings.filterwarnings('ignore')"
   ]
  },
  {
   "cell_type": "markdown",
   "metadata": {
    "id": "WC_0z2soxYCY"
   },
   "source": [
    "***Reading the data into a Dataframe. index_col is used to set the index column***"
   ]
  },
  {
   "cell_type": "code",
   "execution_count": null,
   "metadata": {
    "id": "NePfv6QGdr7m"
   },
   "outputs": [],
   "source": [
    "data = pd.read_csv('train1.csv', index_col = 0)#, index_col = 0"
   ]
  },
  {
   "cell_type": "markdown",
   "metadata": {
    "id": "bxn21g2XxbUh"
   },
   "source": [
    "***Taking a deep copy of the data so as to not modify the original data***"
   ]
  },
  {
   "cell_type": "code",
   "execution_count": null,
   "metadata": {
    "id": "d_gpn5STeLn1"
   },
   "outputs": [],
   "source": [
    "data1 = data.copy(deep = True)\n",
    "data2 = data.copy(deep = True)"
   ]
  },
  {
   "cell_type": "markdown",
   "metadata": {
    "id": "JV3JM-88xgjN"
   },
   "source": [
    "***Display the first 5 rows of the dataframe***"
   ]
  },
  {
   "cell_type": "code",
   "execution_count": null,
   "metadata": {
    "colab": {
     "base_uri": "https://localhost:8080/",
     "height": 331
    },
    "id": "bTjilHWNeNAQ",
    "outputId": "02edd1b6-8674-40fc-e988-1db1940703cc"
   },
   "outputs": [],
   "source": [
    "data1.head()"
   ]
  },
  {
   "cell_type": "markdown",
   "metadata": {
    "id": "0puGOdc7xlpP"
   },
   "source": [
    "***Display the last 5 rows of the dataframe***"
   ]
  },
  {
   "cell_type": "code",
   "execution_count": null,
   "metadata": {
    "colab": {
     "base_uri": "https://localhost:8080/",
     "height": 331
    },
    "id": "FRN44-O9eoaA",
    "outputId": "816226d2-b4c1-4b1b-9e2b-229bff236b9f"
   },
   "outputs": [],
   "source": [
    "data1.tail()"
   ]
  },
  {
   "cell_type": "markdown",
   "metadata": {
    "id": "ATA7-Y53xo69"
   },
   "source": [
    "***Display all the columns of the dataframe***"
   ]
  },
  {
   "cell_type": "code",
   "execution_count": null,
   "metadata": {
    "colab": {
     "base_uri": "https://localhost:8080/"
    },
    "id": "P-QWfYYUek7-",
    "outputId": "80fac36d-49bc-4f31-9af9-7e4c8831f5e0"
   },
   "outputs": [],
   "source": [
    "data1.columns"
   ]
  },
  {
   "cell_type": "markdown",
   "metadata": {
    "id": "WYO6HzebxuRh"
   },
   "source": [
    "***Display the selected column only***"
   ]
  },
  {
   "cell_type": "code",
   "execution_count": null,
   "metadata": {
    "colab": {
     "base_uri": "https://localhost:8080/"
    },
    "id": "2Clwbl8Kerau",
    "outputId": "c1d35415-036c-440e-e336-bfcbe15bc248"
   },
   "outputs": [],
   "source": [
    "data1['MSSubClass']#.head()"
   ]
  },
  {
   "cell_type": "markdown",
   "metadata": {
    "id": "s8XliF0ryEsS"
   },
   "source": [
    "***Display the data of multiple selected columns***"
   ]
  },
  {
   "cell_type": "code",
   "execution_count": null,
   "metadata": {
    "colab": {
     "base_uri": "https://localhost:8080/",
     "height": 455
    },
    "id": "VhCnwsaae6UM",
    "outputId": "b97bbc03-24d7-421b-f272-9de41de2345c"
   },
   "outputs": [],
   "source": [
    "data1[['MSSubClass', 'SaleType', 'Utilities']]"
   ]
  },
  {
   "cell_type": "markdown",
   "metadata": {
    "id": "mkLvOGc5yAbp"
   },
   "source": [
    "***Display the Index of the Dataframe***"
   ]
  },
  {
   "cell_type": "code",
   "execution_count": null,
   "metadata": {
    "colab": {
     "base_uri": "https://localhost:8080/"
    },
    "id": "PIVU2K7shfiQ",
    "outputId": "116e2c41-e44d-475b-8fa1-a8bf5e5cf9cc"
   },
   "outputs": [],
   "source": [
    "data1.index"
   ]
  },
  {
   "cell_type": "markdown",
   "metadata": {
    "id": "ynA2_XtryTHy"
   },
   "source": [
    "***Create a new column based on existing columns. This helps in reducing the dimensionality of the dataframe.***\n",
    "\n",
    "***This can also be used to create new features during the feature engineering stage.***"
   ]
  },
  {
   "cell_type": "code",
   "execution_count": null,
   "metadata": {
    "id": "QBfpCG5ifJ1e"
   },
   "outputs": [],
   "source": [
    "data1['Age'] = data1['YrSold'] - data1['YearBuilt']"
   ]
  },
  {
   "cell_type": "code",
   "execution_count": null,
   "metadata": {
    "colab": {
     "base_uri": "https://localhost:8080/"
    },
    "id": "ZT1cdLNLfYhP",
    "outputId": "036e07c7-ce5a-4221-fce5-7379fc2e3220",
    "scrolled": true
   },
   "outputs": [],
   "source": [
    "data1['Age']"
   ]
  },
  {
   "cell_type": "markdown",
   "metadata": {
    "id": "iMXa3nOqyXUD"
   },
   "source": [
    "***Select particular rows using \"loc\" function***"
   ]
  },
  {
   "cell_type": "code",
   "execution_count": null,
   "metadata": {
    "colab": {
     "base_uri": "https://localhost:8080/",
     "height": 237
    },
    "id": "XM85Ni3FfpG1",
    "outputId": "86469cd5-e722-47a3-d7f3-ea1656c75c0b"
   },
   "outputs": [],
   "source": [
    "data1.loc[3]"
   ]
  },
  {
   "cell_type": "markdown",
   "metadata": {
    "id": "VNNfJ4yIylXd"
   },
   "source": [
    "***Select row with Id \"3\" and column name \"LotArea\" and \"Street\"***"
   ]
  },
  {
   "cell_type": "code",
   "execution_count": null,
   "metadata": {
    "colab": {
     "base_uri": "https://localhost:8080/",
     "height": 143
    },
    "id": "CS-Peww0gE-l",
    "outputId": "fc75b441-ad45-4d65-ba29-33a0d11b618c"
   },
   "outputs": [],
   "source": [
    "data1.loc[3, ['LotArea', 'Street']]"
   ]
  },
  {
   "cell_type": "markdown",
   "metadata": {
    "id": "srvvi5-gzApK"
   },
   "source": [
    "***Select rows using \"iloc\" function***"
   ]
  },
  {
   "cell_type": "code",
   "execution_count": null,
   "metadata": {
    "colab": {
     "base_uri": "https://localhost:8080/"
    },
    "id": "qqZRgv17g2Ns",
    "outputId": "72c17d69-6214-4ee3-9d48-9739f6cf6148"
   },
   "outputs": [],
   "source": [
    "data1.iloc[2, 2]"
   ]
  },
  {
   "cell_type": "code",
   "execution_count": null,
   "metadata": {
    "colab": {
     "base_uri": "https://localhost:8080/",
     "height": 362
    },
    "id": "NFbixV9_iY0H",
    "outputId": "590f26a2-3831-48be-8a47-c6c15a78edfc"
   },
   "outputs": [],
   "source": [
    "data1.head(6)"
   ]
  },
  {
   "cell_type": "markdown",
   "metadata": {
    "id": "OV6c6DmJzFxA"
   },
   "source": [
    "***Conditional selection of rows.***"
   ]
  },
  {
   "cell_type": "code",
   "execution_count": null,
   "metadata": {
    "colab": {
     "base_uri": "https://localhost:8080/",
     "height": 519
    },
    "id": "5CBnI42Aih9f",
    "outputId": "53ca95d6-bd33-41b6-900c-afe189b1bbc2"
   },
   "outputs": [],
   "source": [
    "data1[data1['LotArea'] >= 5000]"
   ]
  },
  {
   "cell_type": "code",
   "execution_count": null,
   "metadata": {
    "colab": {
     "base_uri": "https://localhost:8080/",
     "height": 519
    },
    "id": "NTDFRPeokCEX",
    "outputId": "728520f5-7a17-462a-d6a2-9d7eefb7cf18"
   },
   "outputs": [],
   "source": [
    "data1[data1['LotShape'] == 'IR1']"
   ]
  },
  {
   "cell_type": "markdown",
   "metadata": {
    "id": "wLHNAzaPzMc9"
   },
   "source": [
    "***Multiple conditional selection. Conditional selection can help weed out outliers or incorrect data later in the data cleaning stage.***"
   ]
  },
  {
   "cell_type": "code",
   "execution_count": null,
   "metadata": {
    "colab": {
     "base_uri": "https://localhost:8080/",
     "height": 331
    },
    "id": "IZH5Ii2nkOKO",
    "outputId": "285311d1-6e73-4a26-fb0d-2996a6f7c5c2"
   },
   "outputs": [],
   "source": [
    "data1[(data1['LotShape'] == 'IR1') & (data1['LotArea'] >= 50000)]"
   ]
  },
  {
   "cell_type": "code",
   "execution_count": null,
   "metadata": {
    "colab": {
     "base_uri": "https://localhost:8080/",
     "height": 1000
    },
    "id": "LAZH3vNNpyAE",
    "outputId": "e9a48cec-78eb-4bb4-b320-7d9d1d06a14a"
   },
   "outputs": [],
   "source": [
    "data1[data1['Age'] > 100]"
   ]
  },
  {
   "cell_type": "markdown",
   "metadata": {
    "id": "wrHmO4r8zZXA"
   },
   "source": [
    "***Get statistics of the dataframe i.e. mean, median, mode, correlation, variance, standard deviation and more***"
   ]
  },
  {
   "cell_type": "code",
   "execution_count": null,
   "metadata": {
    "colab": {
     "base_uri": "https://localhost:8080/"
    },
    "id": "AwHLT4jukvwy",
    "outputId": "c55e86af-2bbd-46e4-e37f-2f0947c211b2"
   },
   "outputs": [],
   "source": [
    "data1.mean(numeric_only = True)"
   ]
  },
  {
   "cell_type": "code",
   "execution_count": null,
   "metadata": {
    "colab": {
     "base_uri": "https://localhost:8080/"
    },
    "id": "4JYpxZgao3_n",
    "outputId": "5dfc5f46-f283-40b6-d2d6-b0dfade54f23"
   },
   "outputs": [],
   "source": [
    "data1.median(numeric_only =True)"
   ]
  },
  {
   "cell_type": "code",
   "execution_count": null,
   "metadata": {
    "colab": {
     "base_uri": "https://localhost:8080/",
     "height": 205
    },
    "id": "Dv1sHUOHznLT",
    "outputId": "a2dc7651-9a0e-4a64-fbc4-c78b42bb1f6c"
   },
   "outputs": [],
   "source": [
    "data1.mode()"
   ]
  },
  {
   "cell_type": "code",
   "execution_count": null,
   "metadata": {
    "colab": {
     "base_uri": "https://localhost:8080/"
    },
    "id": "XLM0bTbyo3_o",
    "outputId": "5d14d01f-f541-4efd-a48f-143788fd0782"
   },
   "outputs": [],
   "source": [
    "data1['MSSubClass'].mode()"
   ]
  },
  {
   "cell_type": "code",
   "execution_count": null,
   "metadata": {
    "colab": {
     "base_uri": "https://localhost:8080/"
    },
    "id": "q_uzyrQpk017",
    "outputId": "571c6ab3-deee-466c-a21a-0b508f510af5"
   },
   "outputs": [],
   "source": [
    "data1.std(numeric_only = True)"
   ]
  },
  {
   "cell_type": "code",
   "execution_count": null,
   "metadata": {
    "colab": {
     "base_uri": "https://localhost:8080/"
    },
    "id": "UH7h7RXNk5FG",
    "outputId": "55811d6f-2750-4cf8-9862-391ca3baf34d"
   },
   "outputs": [],
   "source": [
    "data1.var(numeric_only = True)"
   ]
  },
  {
   "cell_type": "code",
   "execution_count": null,
   "metadata": {
    "colab": {
     "base_uri": "https://localhost:8080/"
    },
    "id": "J0TUPGPPlLKd",
    "outputId": "900613be-237c-43bb-9e8b-f3e451879cf9"
   },
   "outputs": [],
   "source": [
    "data1.skew(numeric_only = True)"
   ]
  },
  {
   "cell_type": "code",
   "execution_count": null,
   "metadata": {
    "colab": {
     "base_uri": "https://localhost:8080/"
    },
    "id": "S-BJ_ZLpk7w7",
    "outputId": "ca508b7b-f087-4db7-81c3-1a3f23cacf05"
   },
   "outputs": [],
   "source": [
    "data1.dtypes"
   ]
  },
  {
   "cell_type": "markdown",
   "metadata": {
    "id": "wIrmak8J1jG0"
   },
   "source": [
    "***Correlation plot helps us in identifying features which are important in prediting the target feature and those which are just noise features.***"
   ]
  },
  {
   "cell_type": "code",
   "execution_count": null,
   "metadata": {
    "colab": {
     "base_uri": "https://localhost:8080/",
     "height": 1000
    },
    "id": "3387NGUDoxpX",
    "outputId": "93ea2d4a-a275-4f60-d7df-e11569cd2b82"
   },
   "outputs": [],
   "source": [
    "data1.corr(numeric_only = True)"
   ]
  },
  {
   "cell_type": "markdown",
   "metadata": {
    "id": "P9snP1jSz3G8"
   },
   "source": [
    "***Sort the dataframe in ascending or descending order based on a particular column.***"
   ]
  },
  {
   "cell_type": "code",
   "execution_count": null,
   "metadata": {
    "id": "LwdAOKWutYln"
   },
   "outputs": [],
   "source": [
    "low_to_high_price = data1.sort_values('SalePrice', ascending = True)"
   ]
  },
  {
   "cell_type": "code",
   "execution_count": null,
   "metadata": {
    "colab": {
     "base_uri": "https://localhost:8080/",
     "height": 644
    },
    "id": "nYr6_8CvtnqY",
    "outputId": "a544f480-33e8-4802-9e82-cbd83521ef95"
   },
   "outputs": [],
   "source": [
    "low_to_high_price.head(15)"
   ]
  },
  {
   "cell_type": "markdown",
   "metadata": {
    "id": "0o8mbsbPz-RA"
   },
   "source": [
    "***Grouby data based on specific columns and statitical parameters.***"
   ]
  },
  {
   "cell_type": "code",
   "execution_count": null,
   "metadata": {
    "colab": {
     "base_uri": "https://localhost:8080/",
     "height": 299
    },
    "id": "FKuWKV-_tnni",
    "outputId": "6895e08a-b7ea-4d2d-8d64-10bfda1b7958"
   },
   "outputs": [],
   "source": [
    "data1.groupby(['LotShape']).mean(numeric_only = True)#median/sum"
   ]
  },
  {
   "cell_type": "code",
   "execution_count": null,
   "metadata": {
    "colab": {
     "base_uri": "https://localhost:8080/",
     "height": 393
    },
    "id": "UTTHjjN2tnle",
    "outputId": "c09a2beb-1020-4965-ce88-5c9c07dab160"
   },
   "outputs": [],
   "source": [
    "data1.groupby(['LotShape', 'Street']).mean(numeric_only = True)#median/sum"
   ]
  },
  {
   "cell_type": "markdown",
   "metadata": {
    "id": "3oiSNIvk0FM3"
   },
   "source": [
    "***Get general info of the dataframe i.e. data types, non null values, statitical measures and more with just a couple lines of code!***"
   ]
  },
  {
   "cell_type": "code",
   "execution_count": null,
   "metadata": {
    "colab": {
     "base_uri": "https://localhost:8080/"
    },
    "id": "7zwLDwEDtnjV",
    "outputId": "fbb3109b-4b72-4e9f-cf7f-fed02657a31c"
   },
   "outputs": [],
   "source": [
    "data1.info()"
   ]
  },
  {
   "cell_type": "code",
   "execution_count": null,
   "metadata": {
    "colab": {
     "base_uri": "https://localhost:8080/",
     "height": 393
    },
    "id": "AGBceCEVtYiz",
    "outputId": "57b49e4c-2f0f-449f-8bb1-97302d7d849b"
   },
   "outputs": [],
   "source": [
    "data1.describe()"
   ]
  },
  {
   "cell_type": "code",
   "execution_count": null,
   "metadata": {
    "colab": {
     "base_uri": "https://localhost:8080/"
    },
    "id": "Jm8Mhc06ryjl",
    "outputId": "205a5a6b-647f-4182-c71c-e3ef571a40ea"
   },
   "outputs": [],
   "source": [
    "data1.isnull().sum()#to_dict()"
   ]
  },
  {
   "cell_type": "markdown",
   "metadata": {
    "id": "rq_9C3XLOjVc"
   },
   "source": [
    "***Separating dataframe into numerical and categorical columns for Visualization***"
   ]
  },
  {
   "cell_type": "code",
   "execution_count": null,
   "metadata": {
    "id": "-g_CJnS2ev7H"
   },
   "outputs": [],
   "source": [
    "num = data1.select_dtypes(include = 'number')\n",
    "cat = data1.select_dtypes(include = 'object')"
   ]
  },
  {
   "cell_type": "markdown",
   "metadata": {
    "id": "-encAy34ggO_"
   },
   "source": [
    "***Fins out the outliers of numerical features using Boxplot. We can see that most of the numerical features contain outliers and hence their distribution should to be skewed.***\n",
    "\n",
    "***Boxplot also helps us in understanding the distribution of the features along with uncovering statistical measures. For example the lowermost line is the minimum percentile, the baseline of the box is 25th percentile, the middle line is the 50 percentile(or median), the uppermost line of the box is 75th percentile and the topmost line is the maximum percentile.***"
   ]
  },
  {
   "cell_type": "code",
   "execution_count": null,
   "metadata": {
    "colab": {
     "base_uri": "https://localhost:8080/",
     "height": 447
    },
    "id": "877WalmnOtbF",
    "outputId": "d54781bf-24dc-4618-d717-60c6f2b45c13"
   },
   "outputs": [],
   "source": [
    "num.boxplot(column = 'GarageYrBlt')"
   ]
  },
  {
   "cell_type": "code",
   "execution_count": null,
   "metadata": {
    "colab": {
     "base_uri": "https://localhost:8080/",
     "height": 1000
    },
    "id": "xZTRU5RIs2pV",
    "outputId": "39f36b13-c6aa-4cb2-8a25-07789e734805"
   },
   "outputs": [],
   "source": [
    "for i in num:\n",
    "    num.boxplot(column = i, patch_artist = True, notch ='True')\n",
    "    plt.ylabel(i)\n",
    "    plt.show()"
   ]
  },
  {
   "cell_type": "markdown",
   "metadata": {
    "id": "n5uUieTtHjZl"
   },
   "source": [
    "***From the boxplots, we can see there are a lot of outliers present in the dataset. In order to remove them we will use the IQR method which will basically set an upper limit and lower limit on the range of values (based on the 25th and the 75th percentile value) and then remove values outside of this range.***"
   ]
  },
  {
   "cell_type": "code",
   "execution_count": null,
   "metadata": {
    "colab": {
     "base_uri": "https://localhost:8080/"
    },
    "id": "zY4zi6A0Cx9Z",
    "outputId": "069c1a68-fa44-4abe-8ccf-702d9b3bca5c"
   },
   "outputs": [],
   "source": [
    "data1.shape"
   ]
  },
  {
   "cell_type": "markdown",
   "metadata": {
    "id": "kx4qF3rXH5Fu"
   },
   "source": [
    "***Calculating the 25th and 75th percentile values for a columns.***"
   ]
  },
  {
   "cell_type": "code",
   "execution_count": null,
   "metadata": {
    "id": "lbHne8uX7Jk5"
   },
   "outputs": [],
   "source": [
    "percentile25 = data1['MSSubClass'].quantile(0.25)\n",
    "percentile75 = data1['MSSubClass'].quantile(0.75)"
   ]
  },
  {
   "cell_type": "markdown",
   "metadata": {
    "id": "S7OMS7CUH9eW"
   },
   "source": [
    "***Calculating the IQR value.***"
   ]
  },
  {
   "cell_type": "code",
   "execution_count": null,
   "metadata": {
    "id": "yiRG_tSX-zsE"
   },
   "outputs": [],
   "source": [
    "iqr=percentile75 - percentile25"
   ]
  },
  {
   "cell_type": "markdown",
   "metadata": {
    "id": "PaXVYsxRIGtn"
   },
   "source": [
    "***Calculating the upper limit and the lower limit in order to define a range of good data points.***"
   ]
  },
  {
   "cell_type": "code",
   "execution_count": null,
   "metadata": {
    "id": "G3kqhtMM7Zha"
   },
   "outputs": [],
   "source": [
    "upper_limit = percentile75 + 1.5 * iqr\n",
    "lower_limit = percentile25 - 1.5 * iqr"
   ]
  },
  {
   "cell_type": "code",
   "execution_count": null,
   "metadata": {
    "colab": {
     "base_uri": "https://localhost:8080/"
    },
    "id": "rVdqR3IDFe2-",
    "outputId": "ad3ee292-a9dc-4654-8407-ac699a785ba6"
   },
   "outputs": [],
   "source": [
    "upper_limit"
   ]
  },
  {
   "cell_type": "code",
   "execution_count": null,
   "metadata": {
    "colab": {
     "base_uri": "https://localhost:8080/"
    },
    "id": "RXCT_eDmG_2d",
    "outputId": "e21873f2-1aa3-4808-a02e-b674b1471257"
   },
   "outputs": [],
   "source": [
    "lower_limit"
   ]
  },
  {
   "cell_type": "markdown",
   "metadata": {
    "id": "HbyP7OhzId4H"
   },
   "source": [
    "***Data points that lie outside the IQR range.***"
   ]
  },
  {
   "cell_type": "code",
   "execution_count": null,
   "metadata": {
    "id": "hBAcYqQw7bqk"
   },
   "outputs": [],
   "source": [
    "upper_data_points = data1[data1['MSSubClass'] > upper_limit]\n",
    "lower_data_points = data1[data1['MSSubClass'] < lower_limit]"
   ]
  },
  {
   "cell_type": "code",
   "execution_count": null,
   "metadata": {
    "colab": {
     "base_uri": "https://localhost:8080/"
    },
    "id": "K2EbVQXjD0wQ",
    "outputId": "bf4c75f7-59fd-40b7-80b6-d2a7ef194b85"
   },
   "outputs": [],
   "source": [
    "upper_data_points.shape"
   ]
  },
  {
   "cell_type": "code",
   "execution_count": null,
   "metadata": {
    "colab": {
     "base_uri": "https://localhost:8080/"
    },
    "id": "n5kdoEbvD1xy",
    "outputId": "79f69060-7e46-4c48-f5aa-a8e6e882a434"
   },
   "outputs": [],
   "source": [
    "lower_data_points.shape"
   ]
  },
  {
   "cell_type": "markdown",
   "metadata": {
    "id": "p2YkCx6cInle"
   },
   "source": [
    "***Removing the outliers(the data points that lie outside the IQR range).***"
   ]
  },
  {
   "cell_type": "code",
   "execution_count": null,
   "metadata": {
    "id": "QCJ4VOPN7e-a"
   },
   "outputs": [],
   "source": [
    "data1 = data1[(data1['MSSubClass'] < upper_limit) & (data1['MSSubClass'] > lower_limit)]"
   ]
  },
  {
   "cell_type": "code",
   "execution_count": null,
   "metadata": {
    "colab": {
     "base_uri": "https://localhost:8080/"
    },
    "id": "22VdrC4o7ZfK",
    "outputId": "ee8eb68b-26aa-4947-c6bc-924448cbc09e"
   },
   "outputs": [],
   "source": [
    "data1.shape"
   ]
  },
  {
   "cell_type": "markdown",
   "metadata": {
    "id": "dOGEaRcxgrDg"
   },
   "source": [
    "***Check the distribution of numerical features using distplot. This helps in checking the skewness of numerical features. As seen above in the boxplots, most of the numerical features have outliers and hence the distribution is skewed thus validating our previous insight.***"
   ]
  },
  {
   "cell_type": "code",
   "execution_count": null,
   "metadata": {
    "colab": {
     "base_uri": "https://localhost:8080/",
     "height": 466
    },
    "id": "rc-tigX1T1gT",
    "outputId": "29cbe3dc-87fc-4e85-b6a0-6d5d87092381"
   },
   "outputs": [],
   "source": [
    "sns.distplot(data['MoSold'])"
   ]
  },
  {
   "cell_type": "code",
   "execution_count": null,
   "metadata": {
    "colab": {
     "base_uri": "https://localhost:8080/",
     "height": 1000
    },
    "id": "IObD3MJ7ghRa",
    "outputId": "240da997-58c8-4a6a-f9a5-ff40d6f0a812"
   },
   "outputs": [],
   "source": [
    "sns.set_style('whitegrid')\n",
    "for j in num:\n",
    "    sns.distplot(data1[j], kde = True, color = 'red')\n",
    "    plt.show()"
   ]
  },
  {
   "cell_type": "markdown",
   "metadata": {
    "id": "Pu8Y0gxthMp_"
   },
   "source": [
    "***Scatter plot to check the correlation of input feature to the target feature. This also helps in uncovering useful and actionable insights from the data.***\n",
    "\n",
    "***One can also get the outliers from the scatterplots.***"
   ]
  },
  {
   "cell_type": "code",
   "execution_count": null,
   "metadata": {
    "colab": {
     "base_uri": "https://localhost:8080/",
     "height": 466
    },
    "id": "Ei4M8Lk6ULFt",
    "outputId": "41098d88-248c-426c-e17c-5a402ef86389"
   },
   "outputs": [],
   "source": [
    "sns.scatterplot(x = data1['GarageArea'], y = data1['SalePrice'], palette='pastel')"
   ]
  },
  {
   "cell_type": "markdown",
   "metadata": {
    "id": "PDys6T-BiXxd"
   },
   "source": [
    "***Houses sold in 2008 fetched minimum price. This can be attributed to the Lehman brothers bank crisis.***"
   ]
  },
  {
   "cell_type": "code",
   "execution_count": null,
   "metadata": {
    "colab": {
     "base_uri": "https://localhost:8080/",
     "height": 466
    },
    "id": "kRroUIGrbCPF",
    "outputId": "2a6367bd-1cc0-4bfe-9429-f74182598132"
   },
   "outputs": [],
   "source": [
    "sns.scatterplot(x = data1['YrSold'], y = data1['SalePrice'], palette='pastel')"
   ]
  },
  {
   "cell_type": "code",
   "execution_count": null,
   "metadata": {
    "colab": {
     "base_uri": "https://localhost:8080/",
     "height": 1000
    },
    "id": "Ihpq1dOBvX_g",
    "outputId": "3d76b142-de09-4094-9b17-053019b9c602"
   },
   "outputs": [],
   "source": [
    "for i in num:\n",
    "  sns.scatterplot(x = num[i], y = num['SalePrice'], palette='pastel')\n",
    "  plt.show()"
   ]
  },
  {
   "cell_type": "markdown",
   "metadata": {
    "id": "nl9BqxEchjNS"
   },
   "source": [
    "***Countplot to get the frequency of various classes of categorical features. This also helps us in detecting the minority classes.***"
   ]
  },
  {
   "cell_type": "code",
   "execution_count": null,
   "metadata": {
    "colab": {
     "base_uri": "https://localhost:8080/",
     "height": 466
    },
    "id": "BlNbZF1-f1dk",
    "outputId": "d5c3708a-248f-4920-c8c2-752e2649ee2b"
   },
   "outputs": [],
   "source": [
    "sns.countplot(x = data1['MSZoning'])"
   ]
  },
  {
   "cell_type": "code",
   "execution_count": null,
   "metadata": {
    "colab": {
     "base_uri": "https://localhost:8080/",
     "height": 1000
    },
    "id": "Hzc4vS9cguCD",
    "outputId": "28665c83-c58f-42bc-ab5b-1b3d9e93db61"
   },
   "outputs": [],
   "source": [
    "for i in cat:\n",
    "  sns.countplot(x = data1[i], palette = \"Spectral\")\n",
    "  plt.show()"
   ]
  },
  {
   "cell_type": "markdown",
   "metadata": {
    "id": "sPDYiX8wo3_t"
   },
   "source": [
    "***Properties with Lotshape IR1 are the most expensive folllowed by IR3 and Reg Lotshape is the cheapest.***"
   ]
  },
  {
   "cell_type": "code",
   "execution_count": null,
   "metadata": {
    "colab": {
     "base_uri": "https://localhost:8080/",
     "height": 466
    },
    "id": "5cRJsZ6KTQpz",
    "outputId": "6ec1d584-bf11-48f4-851f-4ab4503e8354"
   },
   "outputs": [],
   "source": [
    "sns.barplot(x = data1['LotShape'], y = data1['SalePrice'], ci = 0)"
   ]
  },
  {
   "cell_type": "markdown",
   "metadata": {
    "id": "iXNqToWbi7J_"
   },
   "source": [
    "***1Fam buildingtype is the most expensive along with Twinhouse, whereas 2Family condo is the least expensive.***"
   ]
  },
  {
   "cell_type": "code",
   "execution_count": null,
   "metadata": {
    "colab": {
     "base_uri": "https://localhost:8080/",
     "height": 466
    },
    "id": "okty-8S3Tw_w",
    "outputId": "dbac85b0-2639-4a26-f7eb-ff5556a5eda2"
   },
   "outputs": [],
   "source": [
    "sns.barplot(x = data1['BldgType'], y = data1['SalePrice'], ci = 0)"
   ]
  },
  {
   "cell_type": "code",
   "execution_count": null,
   "metadata": {
    "colab": {
     "base_uri": "https://localhost:8080/",
     "height": 1000
    },
    "id": "FWDU4BZA5fF1",
    "outputId": "82122af1-45f9-4fde-bdba-e051a1cab5b6"
   },
   "outputs": [],
   "source": [
    "for i in cat:\n",
    "  sns.barplot(x = data1[i], y = data1['SalePrice'], ci = 0)\n",
    "  plt.show()"
   ]
  },
  {
   "cell_type": "markdown",
   "metadata": {
    "id": "LB_brnnGzvP4"
   },
   "source": [
    "***Display and remove the duplicate rows in the Dataframe. Duplicate rows increase the computational time of the Machine Learning model and also result in falsely positive results.***"
   ]
  },
  {
   "cell_type": "code",
   "execution_count": null,
   "metadata": {
    "colab": {
     "base_uri": "https://localhost:8080/",
     "height": 519
    },
    "id": "toDrbMuusiSR",
    "outputId": "b459eec3-e4ad-437b-fcb5-bd33dd86dd07"
   },
   "outputs": [],
   "source": [
    "data1[data1.duplicated()]"
   ]
  },
  {
   "cell_type": "code",
   "execution_count": null,
   "metadata": {
    "id": "ZlO7BauzpNKA"
   },
   "outputs": [],
   "source": [
    "data1.drop_duplicates(keep = 'first', inplace = True)"
   ]
  },
  {
   "cell_type": "code",
   "execution_count": null,
   "metadata": {
    "colab": {
     "base_uri": "https://localhost:8080/",
     "height": 174
    },
    "id": "E-O-T-CxpNB0",
    "outputId": "20eab92d-033f-4719-bbab-ae68713044bc"
   },
   "outputs": [],
   "source": [
    "data1[data1.duplicated()]"
   ]
  },
  {
   "cell_type": "markdown",
   "metadata": {
    "id": "bYgGggDBlF4T"
   },
   "source": [
    "***Data Preprocessing Stage. In this phase, we will be performing the following steps:-***\n",
    "\n",
    "***1.   Split the data into train and test. This is necessary in order to check how well the model is performing before shipping the model into production. Also any kind of preprocessing needs to be done after splitting the data into train and test set.***\n",
    "\n",
    "***2.   Dealing with Missing values. This is another critical aspect of data preprocessing as Machine Learning models cannot deal with Missing values. So we have to either remove them or impute them.***\n",
    "\n",
    "***3.   Remove the outliers/nonsensical values observed in the EDA phase.***\n",
    "\n",
    "***4.   Encode the categorical features as Machine Learning models cannot work with categorical data.***\n",
    "\n",
    "***5.   Scaling the features. This is neccessary as we will have features of different scales (think outliers!) and units. So standardizing/normalizing them will help the model learn better.***"
   ]
  },
  {
   "cell_type": "code",
   "execution_count": null,
   "metadata": {
    "id": "8GO4NSXInjJr"
   },
   "outputs": [],
   "source": [
    "x = data1.drop(['SalePrice'], axis = 1)\n",
    "y = data1['SalePrice']"
   ]
  },
  {
   "cell_type": "code",
   "execution_count": null,
   "metadata": {
    "id": "F6ZSemiLnjHt"
   },
   "outputs": [],
   "source": [
    "from sklearn.model_selection import GridSearchCV, train_test_split\n",
    "train_x, test_x, train_y, test_y = train_test_split(x, y, random_state = 69)"
   ]
  },
  {
   "cell_type": "markdown",
   "metadata": {
    "id": "tXWxCxsOnd7Q"
   },
   "source": [
    "***Separatin numerical and categorical features from train and test set as both will require separate treatment.***"
   ]
  },
  {
   "cell_type": "code",
   "execution_count": null,
   "metadata": {
    "id": "UkJwGesLnjDc"
   },
   "outputs": [],
   "source": [
    "train_num = train_x.select_dtypes(include = 'number')\n",
    "train_cat = train_x.select_dtypes(include = 'object')\n",
    "\n",
    "test_num = test_x.select_dtypes(include = 'number')\n",
    "test_cat = test_x.select_dtypes(include = 'object')"
   ]
  },
  {
   "cell_type": "markdown",
   "metadata": {
    "id": "pq3hWCWJnlxq"
   },
   "source": [
    "***Missing value imputation. We can also remove the missing values but then it would lead to data loss. So we will impute them using mean, median or mode. For numerical features we can use mean or median and for categorical features we will use mode. ***"
   ]
  },
  {
   "cell_type": "code",
   "execution_count": null,
   "metadata": {
    "id": "8LX6iyj3iFO4"
   },
   "outputs": [],
   "source": [
    "print('Missing values before imputation \\n', train_cat.isnull().sum())\n",
    "train_cat.fillna(train_cat.mode().loc[0], inplace = True)\n",
    "print('\\n')\n",
    "print('Missing values after imputation \\n', train_cat.isnull().sum())"
   ]
  },
  {
   "cell_type": "code",
   "execution_count": null,
   "metadata": {
    "id": "1bEPDgPrn-Rj"
   },
   "outputs": [],
   "source": [
    "print('Missing values before imputation \\n', train_num.isnull().sum())\n",
    "train_num.fillna(train_num.median(), inplace = True)\n",
    "print('\\n')\n",
    "print('Missing values after imputation \\n', train_num.isnull().sum())"
   ]
  },
  {
   "cell_type": "code",
   "execution_count": null,
   "metadata": {
    "id": "bGKP9Jq4iFMc"
   },
   "outputs": [],
   "source": [
    "print('Missing values before imputation \\n', test_cat.isnull().sum())\n",
    "test_cat.fillna(train_cat.mode().loc[0], inplace = True)\n",
    "print('\\n')\n",
    "print('Missing values after imputation \\n', test_cat.isnull().sum())"
   ]
  },
  {
   "cell_type": "code",
   "execution_count": null,
   "metadata": {
    "id": "vrOnGReo2JdN"
   },
   "outputs": [],
   "source": [
    "print('Missing values before imputation \\n', test_num.isnull().sum())\n",
    "test_num.fillna(train_num.median(), inplace = True)\n",
    "print('\\n')\n",
    "print('Missing values after imputation \\n', test_num.isnull().sum())"
   ]
  },
  {
   "cell_type": "markdown",
   "metadata": {
    "id": "eLm7DNsyoTMV"
   },
   "source": [
    "***Encoding the categorical features. Machines cannot work with charatcers/text. They can only understand numbers and digits.***\n",
    "\n",
    "***Hence we first need to convert the characters and text into numbers and the proceed forward using the concept of Categorical Encoding.***\n",
    "\n",
    "***There are many encoders we can use. We are going to use OneHotEncoder.***\n",
    "\n",
    "***OneHotEncoder encodes each category into a new column with values either 0 or 1.***"
   ]
  },
  {
   "cell_type": "code",
   "execution_count": null,
   "metadata": {
    "id": "z7Kuy9-7r3Nl"
   },
   "outputs": [],
   "source": [
    "from sklearn.preprocessing import OneHotEncoder\n",
    "\n",
    "encoder = OneHotEncoder(sparse = False, handle_unknown = 'ignore')\n",
    "encoder.fit(train_cat)\n",
    "train_cat = pd.DataFrame(encoder.transform(train_cat), columns = encoder.get_feature_names_out())\n",
    "test_cat = pd.DataFrame(encoder.transform(test_cat), columns = encoder.get_feature_names_out())"
   ]
  },
  {
   "cell_type": "markdown",
   "metadata": {
    "id": "6KF9CuuCoIYT"
   },
   "source": [
    "***After encoding the categorical values, we can now concat the numerical and categorical features together into one single dataframe for both the trian and test sets. ***\n",
    "\n",
    "***But before that we need to reset the index of the train and test set in order to avoid noisy null values.***"
   ]
  },
  {
   "cell_type": "code",
   "execution_count": null,
   "metadata": {
    "id": "X8JmT6tEKNrY"
   },
   "outputs": [],
   "source": [
    "train_num.reset_index(inplace = True, drop = True)\n",
    "train_cat.reset_index(inplace = True, drop = True)\n",
    "test_num.reset_index(inplace = True, drop = True)\n",
    "test_cat.reset_index(inplace = True, drop = True)"
   ]
  },
  {
   "cell_type": "markdown",
   "metadata": {
    "id": "KHIWFyFZNyae"
   },
   "source": [
    "***Concatenating the numerical and categorical dataframes together.***"
   ]
  },
  {
   "cell_type": "code",
   "execution_count": null,
   "metadata": {
    "id": "8E3k4NWhqqHQ"
   },
   "outputs": [],
   "source": [
    "train_x1 = pd.concat([train_num, train_cat], axis = 1)\n",
    "test_x1 = pd.concat([test_num, test_cat], axis = 1) "
   ]
  },
  {
   "cell_type": "markdown",
   "metadata": {
    "id": "YW28XXetj_uk"
   },
   "source": [
    "***Feature Scaling. Putting the values in the same range/scale so that no feature is dominated by other features.***\n",
    "\n",
    "***This is needed as the dataset might contain features with different units and ranges. So the data must be normalized/scaled before proceeding further in order to avoid incorrect results.***"
   ]
  },
  {
   "cell_type": "markdown",
   "metadata": {
    "id": "40mvdmQoO7yg"
   },
   "source": [
    "***StandardScaler will transform the data such that the transformed data will have mean 0 and standard deviation 1.*** \n",
    "\n",
    "***This scaler is used when your dataset shows a normal distribution. ***"
   ]
  },
  {
   "cell_type": "code",
   "execution_count": null,
   "metadata": {
    "id": "HOXcIhhtnYDq"
   },
   "outputs": [],
   "source": [
    "from sklearn.preprocessing import StandardScaler, MinMaxScaler, RobustScaler\n",
    "\n",
    "# scaler = StandardScaler()\n",
    "# scaler.fit(train_x1)\n",
    "# train_x1 = pd.DataFrame(scaler.transform(train_x1), columns = train_x1.columns)\n",
    "# test_x1 = pd.DataFrame(scaler.transform(test_x1), columns = test_x1.columns)"
   ]
  },
  {
   "cell_type": "markdown",
   "metadata": {
    "id": "aI78Smj-PRNh"
   },
   "source": [
    "***MinMaxScaler will transform each data point within the range of [0, 1].***\n",
    "\n",
    "***This scaler preserves the underlying distribution of your dataset and does not distort it.***"
   ]
  },
  {
   "cell_type": "code",
   "execution_count": null,
   "metadata": {
    "id": "fDgjmPllfWH5"
   },
   "outputs": [],
   "source": [
    "scaler = MinMaxScaler()\n",
    "scaler.fit(train_x1)\n",
    "train_x1 = pd.DataFrame(scaler.transform(train_x1), columns = train_x1.columns)\n",
    "test_x1 = pd.DataFrame(scaler.transform(test_x1), columns = test_x1.columns)"
   ]
  },
  {
   "cell_type": "markdown",
   "metadata": {
    "id": "8W6xarzdOt5I"
   },
   "source": [
    "***RobustScaler is used when your data contains a lot of outliers.***\n",
    "\n",
    "***When your dataset is heavily skewed, it is advised to use this scaler.***"
   ]
  },
  {
   "cell_type": "code",
   "execution_count": null,
   "metadata": {
    "id": "3g1JUS90Olv-"
   },
   "outputs": [],
   "source": [
    "# scaler = RobustScaler()\n",
    "# scaler.fit(train_x1)\n",
    "# train_x1 = pd.DataFrame(scaler.transform(train_x1), columns = train_x1.columns)\n",
    "# test_x1 = pd.DataFrame(scaler.transform(test_x1), columns = test_x1.columns)"
   ]
  },
  {
   "cell_type": "markdown",
   "metadata": {
    "id": "5sM9ZWj3kQGO"
   },
   "source": [
    "***Now we are ready to train our Machine Learning models! We will be training 5 different models (linear, tree, forest, distance and boosting based models) in order to see which performs the best. ***"
   ]
  },
  {
   "cell_type": "code",
   "execution_count": null,
   "metadata": {
    "id": "Q7O37RgAmnOf"
   },
   "outputs": [],
   "source": [
    "!pip install xgboost\n",
    "import xgboost as xgb"
   ]
  },
  {
   "cell_type": "code",
   "execution_count": null,
   "metadata": {
    "id": "vGt8eg3Uht8N"
   },
   "outputs": [],
   "source": [
    "from sklearn.linear_model import LinearRegression\n",
    "from sklearn.tree import DecisionTreeRegressor\n",
    "from sklearn.ensemble import RandomForestRegressor\n",
    "from sklearn.neighbors import KNeighborsRegressor\n",
    "from sklearn.svm import SVR\n",
    "\n",
    "model1 = LinearRegression()\n",
    "model2 = DecisionTreeRegressor(random_state = 69)\n",
    "model3 = RandomForestRegressor(random_state = 69)\n",
    "model4 = KNeighborsRegressor()\n",
    "model5 = xgb.XGBRegressor()\n",
    "model6 = SVR()"
   ]
  },
  {
   "cell_type": "markdown",
   "metadata": {
    "id": "y4inc6kLUFEV"
   },
   "source": [
    "***Fitting the Linear Regression model.***"
   ]
  },
  {
   "cell_type": "code",
   "execution_count": null,
   "metadata": {
    "id": "CqJNz2L69SrX"
   },
   "outputs": [],
   "source": [
    "model1.fit(train_x1, train_y)"
   ]
  },
  {
   "cell_type": "markdown",
   "metadata": {
    "id": "Px3vp1IuUOjt"
   },
   "source": [
    "***Predicting on the test set using the Linear Regression model.***"
   ]
  },
  {
   "cell_type": "code",
   "execution_count": null,
   "metadata": {
    "id": "bi1nn_24UNLQ"
   },
   "outputs": [],
   "source": [
    "pred1 = model1.predict(test_x1)"
   ]
  },
  {
   "cell_type": "code",
   "execution_count": null,
   "metadata": {},
   "outputs": [],
   "source": [
    "pred1"
   ]
  },
  {
   "cell_type": "markdown",
   "metadata": {
    "id": "gyv7wbgOUrVp"
   },
   "source": [
    "***Calculating the error for the Linear Regression model.***"
   ]
  },
  {
   "cell_type": "code",
   "execution_count": null,
   "metadata": {
    "id": "0GUPtcPanV80"
   },
   "outputs": [],
   "source": [
    "from sklearn.metrics import mean_squared_error, mean_absolute_error, r2_score\n",
    "\n",
    "mae1 = mean_absolute_error(test_y, pred1)"
   ]
  },
  {
   "cell_type": "code",
   "execution_count": null,
   "metadata": {
    "id": "VeUgFFWLrjBs"
   },
   "outputs": [],
   "source": [
    "mae1"
   ]
  },
  {
   "cell_type": "markdown",
   "metadata": {
    "id": "Eq2ObmfiUI5f"
   },
   "source": [
    "***DecisionTreeRegressor***"
   ]
  },
  {
   "cell_type": "code",
   "execution_count": null,
   "metadata": {
    "id": "ru5gi0rV9Uo0"
   },
   "outputs": [],
   "source": [
    "model2.fit(train_x1, train_y)\n",
    "pred2 = model2.predict(test_x1)\n",
    "\n",
    "mae2 = mean_absolute_error(test_y, pred2)\n",
    "\n",
    "mae2"
   ]
  },
  {
   "cell_type": "markdown",
   "metadata": {
    "id": "AwShZIuNVNhj"
   },
   "source": [
    "***RandomForestRegressor***"
   ]
  },
  {
   "cell_type": "code",
   "execution_count": null,
   "metadata": {
    "id": "qwv8CDje9Uh0"
   },
   "outputs": [],
   "source": [
    "model3.fit(train_x1, train_y)\n",
    "pred3 = model3.predict(test_x1)\n",
    "\n",
    "mae3 = mean_absolute_error(test_y, pred3)\n",
    "\n",
    "mae3"
   ]
  },
  {
   "cell_type": "markdown",
   "metadata": {
    "id": "UmOmgTvvVRNT"
   },
   "source": [
    "***KNNRegressor***"
   ]
  },
  {
   "cell_type": "code",
   "execution_count": null,
   "metadata": {
    "id": "MmZ7my1Q9UeX"
   },
   "outputs": [],
   "source": [
    "model4.fit(train_x1, train_y)\n",
    "pred4 = model4.predict(test_x1)\n",
    "\n",
    "mae4 = mean_absolute_error(test_y, pred4)\n",
    "\n",
    "mae4"
   ]
  },
  {
   "cell_type": "markdown",
   "metadata": {
    "id": "lC5dxRJNkfmv"
   },
   "source": [
    "***XGBRegressor***"
   ]
  },
  {
   "cell_type": "code",
   "execution_count": null,
   "metadata": {
    "id": "GqNZO7_Dft81"
   },
   "outputs": [],
   "source": [
    "model5.fit(train_x1, train_y)\n",
    "pred5 = model5.predict(test_x1)\n",
    "\n",
    "mae5 = mean_absolute_error(test_y, pred5)\n",
    "\n",
    "mae5"
   ]
  },
  {
   "cell_type": "code",
   "execution_count": null,
   "metadata": {},
   "outputs": [],
   "source": [
    "#SVM Regressor"
   ]
  },
  {
   "cell_type": "code",
   "execution_count": null,
   "metadata": {
    "id": "YDlABoBerTD-"
   },
   "outputs": [],
   "source": [
    "model6.fit(train_x1, train_y)\n",
    "pred6 = model6.predict(test_x1)\n",
    "\n",
    "mae6 = mean_absolute_error(test_y, pred6)\n",
    "\n",
    "mae6"
   ]
  },
  {
   "cell_type": "markdown",
   "metadata": {
    "id": "QMkj8yhH6GyD"
   },
   "source": [
    "***Base model score is 2030517400638875.8 for Linear Regression, 28315.71 for Decision Tree Regressor, 18916.22 for Random Forest Regressor and 26654.95 for KNN Regressor, 19490.79 for XGBRegressor and 54643.78 for SVMRegressor. Now we will implement Hyperparameter Tuning using GridSearcCV in order to improve the score!***"
   ]
  },
  {
   "cell_type": "markdown",
   "metadata": {
    "id": "998mB0NkU5jB"
   },
   "source": [
    "***Hyperparameter Tuning using GridSearchCV.***"
   ]
  },
  {
   "cell_type": "code",
   "execution_count": null,
   "metadata": {
    "id": "ib2HdGxgOFYx"
   },
   "outputs": [],
   "source": [
    "DTR_params = [{'max_depth': [3, 6, 9, 12], 'max_features': [3, 6, 9]}]\n",
    "\n",
    "dtr = GridSearchCV(model2, DTR_params, cv = 5, scoring='neg_mean_absolute_error')\n",
    "dtr.fit(train_x1, train_y)\n",
    "\n",
    "print(dtr.best_params_)\n",
    "print(-(dtr.best_score_))"
   ]
  },
  {
   "cell_type": "code",
   "execution_count": null,
   "metadata": {
    "id": "gytZudvcVnNk"
   },
   "outputs": [],
   "source": [
    "RFR_params = [{'n_estimators': [5, 10, 15, 20], 'max_depth': [3, 6, 9, 12]}]\n",
    "\n",
    "rfr = GridSearchCV(model3, RFR_params, cv = 5, scoring='neg_mean_absolute_error')\n",
    "rfr.fit(train_x1, train_y)\n",
    "\n",
    "print(rfr.best_params_)\n",
    "print(-(rfr.best_score_))"
   ]
  },
  {
   "cell_type": "code",
   "execution_count": null,
   "metadata": {
    "id": "fy1v6nYwVnK8"
   },
   "outputs": [],
   "source": [
    "KNN_params = [{'n_neighbors': [3, 6, 9, 12], 'weights': ['uniform', 'distance']}]\n",
    "\n",
    "knn = GridSearchCV(model4, KNN_params, cv = 5, scoring='neg_mean_absolute_error')\n",
    "knn.fit(train_x1, train_y)\n",
    "\n",
    "print(knn.best_params_)\n",
    "print(-(knn.best_score_))"
   ]
  },
  {
   "cell_type": "code",
   "execution_count": null,
   "metadata": {
    "id": "1R0076s7Wbp9"
   },
   "outputs": [],
   "source": [
    "xgb_params = [{'eta': [0.1, 0.2, 0.3], 'max_depth': [3, 6, 9]}]\n",
    "\n",
    "gb = GridSearchCV(model5, xgb_params, cv = 5, scoring='neg_mean_absolute_error')\n",
    "gb.fit(train_x1, train_y)\n",
    "\n",
    "print(gb.best_params_)\n",
    "print(-(gb.best_score_))"
   ]
  },
  {
   "cell_type": "code",
   "execution_count": null,
   "metadata": {
    "id": "w5hLFAmvr8hH"
   },
   "outputs": [],
   "source": [
    "svm_params = [{'kernel': ['linear', 'rbf', 'poly'], 'C': [0.1, 0.2, 0.3]}]\n",
    "\n",
    "svm = GridSearchCV(model6, svm_params, cv = 5, scoring='neg_mean_absolute_error')\n",
    "svm.fit(train_x1, train_y)\n",
    "\n",
    "print(svm.best_params_)\n",
    "print(-(svm.best_score_))"
   ]
  },
  {
   "cell_type": "markdown",
   "metadata": {
    "id": "I2SHk1Vvlv1D"
   },
   "source": [
    "***Now we have trained our models and tested them on the test set to validate the results. How can we further increase the accuracy?***\n",
    "\n",
    "***One way to achieve this by removing noisy/unneccessary features from the set and keeping only the relevent features. This process is known as Feature Selection. There are many ways through which we can do this.***\n",
    "\n",
    "***One way is to manually look and find features which are noise features. Although widely used, it required manual effort and domain knowledge which not everyone has.***\n",
    "\n",
    "***Another approach is an automated appproach. This approach is preferred and widely used. There are many techniques which can be used to find the important features.***"
   ]
  },
  {
   "cell_type": "markdown",
   "metadata": {
    "id": "Fuw5qHIGRbaf"
   },
   "source": [
    "***Feature Selection (Removing high NaN value features)***\n",
    "\n",
    "***Remove features with high percentage of NaN values, as they do not contain enogh information for the model to learn. ***"
   ]
  },
  {
   "cell_type": "code",
   "execution_count": null,
   "metadata": {
    "id": "HwTaTasKvzCJ"
   },
   "outputs": [],
   "source": [
    "nan_feat = [cname for cname in data2.columns if data2[cname].isnull().sum() >= 1]\n",
    "\n",
    "# TO FIND OUT THE % OF NAN \n",
    "for i in nan_feat:\n",
    "    print(i, np.round(data2[i].isnull().mean(), 2))"
   ]
  },
  {
   "cell_type": "markdown",
   "metadata": {
    "id": "auuxQ5k6miyo"
   },
   "source": [
    "***Feature Selection (Variance Threshold)***\n",
    "\n",
    "***In this method, we remove the features with low variance, as they do not contribute in the outcome prediction and only increase the dimensionality of the data thus increasing the time execution.***"
   ]
  },
  {
   "cell_type": "code",
   "execution_count": null,
   "metadata": {
    "id": "y6iAJ4ceqerg"
   },
   "outputs": [],
   "source": [
    "cat_data = data2.select_dtypes(include = 'object')\n",
    "pd.crosstab(cat_data['Street'], columns = 'counts', normalize = True)"
   ]
  },
  {
   "cell_type": "code",
   "execution_count": null,
   "metadata": {
    "id": "YHZZS5Yvqel8"
   },
   "outputs": [],
   "source": [
    "list1 = []\n",
    "for i in cat_data.columns:\n",
    "    list1.append((i, pd.crosstab(cat_data[i], columns = 'counts', normalize = True)))"
   ]
  },
  {
   "cell_type": "code",
   "execution_count": null,
   "metadata": {
    "id": "llEzU_fbnBjT"
   },
   "outputs": [],
   "source": [
    "list1"
   ]
  },
  {
   "cell_type": "markdown",
   "metadata": {
    "id": "GQm3ldvumrvH"
   },
   "source": [
    "***Feature Selection (Correlation based)***\n",
    "\n",
    "***Check the linear correlation of the features to detect important ones.***"
   ]
  },
  {
   "cell_type": "code",
   "execution_count": null,
   "metadata": {
    "id": "UJxWjcFKqeaz"
   },
   "outputs": [],
   "source": [
    "corr = data2.corr()\n",
    "corr.style.background_gradient(cmap='coolwarm')"
   ]
  },
  {
   "cell_type": "markdown",
   "metadata": {
    "id": "-cEn69CyWoG3"
   },
   "source": [
    "***Select the best features with the help of various algorithms like chi2, mutual information and more.***\n",
    "\n",
    "***We just need to specify the algorithm and the number of top features required.***"
   ]
  },
  {
   "cell_type": "code",
   "execution_count": null,
   "metadata": {
    "id": "LEZ_ZQ7yTTrq"
   },
   "outputs": [],
   "source": [
    "from sklearn.feature_selection import SelectKBest, chi2\n",
    "\n",
    "selector = SelectKBest(score_func = chi2, k = 10)\n",
    "selector.fit(train_x1, train_y)\n",
    "train_x1.columns[selector.get_support()]"
   ]
  },
  {
   "cell_type": "markdown",
   "metadata": {
    "id": "gUhZdU9E64Mi"
   },
   "source": [
    "***Feature Importance using Random Forest model***"
   ]
  },
  {
   "cell_type": "code",
   "execution_count": null,
   "metadata": {
    "id": "ZomZAq2WFaDH"
   },
   "outputs": [],
   "source": [
    "rf_model = RandomForestRegressor(random_state=69)\n",
    "\n",
    "rf_model.fit(train_x1, train_y)"
   ]
  },
  {
   "cell_type": "code",
   "execution_count": null,
   "metadata": {
    "id": "-H406zXnyQ42"
   },
   "outputs": [],
   "source": [
    "feature_scores = pd.Series(rf_model.feature_importances_, index=train_x1.columns).sort_values(ascending=False)"
   ]
  },
  {
   "cell_type": "code",
   "execution_count": null,
   "metadata": {
    "id": "MMtdoW_GFWhn"
   },
   "outputs": [],
   "source": [
    "feature_scores[:10]"
   ]
  },
  {
   "cell_type": "code",
   "execution_count": null,
   "metadata": {
    "id": "uY70XezTFU5f"
   },
   "outputs": [],
   "source": [
    "feature_scores.index[:10]"
   ]
  },
  {
   "cell_type": "code",
   "execution_count": null,
   "metadata": {
    "id": "AtjV-yyeFTro"
   },
   "outputs": [],
   "source": [
    "# Creating a seaborn bar plot\n",
    "\n",
    "f, ax = plt.subplots(figsize=(30, 24))\n",
    "ax = sns.barplot(x=feature_scores[:10], y=feature_scores.index[:10])\n",
    "ax.set_title(\"Visualize feature scores of the features\")\n",
    "ax.set_yticklabels(feature_scores.index[:10])\n",
    "ax.set_xlabel(\"Feature importance score\")\n",
    "ax.set_ylabel(\"Features\")\n",
    "plt.show()"
   ]
  },
  {
   "cell_type": "markdown",
   "metadata": {
    "id": "yoPn85WNmzOI"
   },
   "source": [
    "***Dropping the unwanted features***"
   ]
  },
  {
   "cell_type": "code",
   "execution_count": null,
   "metadata": {
    "id": "-_699NP3qeYk"
   },
   "outputs": [],
   "source": [
    "low_var_list = ['Alley', 'YrSold', 'PoolQC', 'MiscFeature', 'MiscVal', 'GarageYrBlt', 'YearBuilt', 'MoSold', \n",
    "            '1stFlrSF', '2ndFlrSF', 'LotArea', 'YearRemodAdd', 'Street', 'Utilities', 'LandSlope', \n",
    "            'Condition2', 'RoofMatl', 'Heating', 'GarageCond']\n",
    "data2.drop(low_var_list, axis = 1, inplace = True)"
   ]
  },
  {
   "cell_type": "markdown",
   "metadata": {
    "id": "LueruUtrW24Y"
   },
   "source": [
    "***Now we repeat the same steps performed above i.e. splitting into train and test set, imputation of NaN values, encoding, scaling and then training!***"
   ]
  },
  {
   "cell_type": "code",
   "execution_count": null,
   "metadata": {
    "id": "2NCtVQaVqeWS"
   },
   "outputs": [],
   "source": [
    "x1 = data2.drop(['SalePrice'], axis = 1)\n",
    "y1 = data2['SalePrice']"
   ]
  },
  {
   "cell_type": "code",
   "execution_count": null,
   "metadata": {
    "id": "gFEfVb8y1AvF"
   },
   "outputs": [],
   "source": [
    "train_x4, test_x4, train_y4, test_y4 = train_test_split(x1, y1, random_state = 69)"
   ]
  },
  {
   "cell_type": "code",
   "execution_count": null,
   "metadata": {
    "id": "tySvsBwz05M7"
   },
   "outputs": [],
   "source": [
    "train_num1 = train_x4.select_dtypes(include = 'number')\n",
    "train_cat1 = train_x4.select_dtypes(include = 'object')\n",
    "\n",
    "test_num1 = test_x4.select_dtypes(include = 'number')\n",
    "test_cat1 = test_x4.select_dtypes(include = 'object')"
   ]
  },
  {
   "cell_type": "code",
   "execution_count": null,
   "metadata": {
    "id": "_yBfrCFa277G"
   },
   "outputs": [],
   "source": [
    "print('Missing values before imputation \\n', train_num1.isnull().sum())\n",
    "train_num1.fillna(train_num1.median(), inplace = True)\n",
    "print('\\n')\n",
    "print('Missing values after imputation \\n', train_num1.isnull().sum())"
   ]
  },
  {
   "cell_type": "code",
   "execution_count": null,
   "metadata": {
    "id": "xYASpmul29cW"
   },
   "outputs": [],
   "source": [
    "print('Missing values before imputation \\n', train_cat1.isnull().sum())\n",
    "train_cat1.fillna(train_cat1.mode().loc[0], inplace = True)\n",
    "print('\\n')\n",
    "print('Missing values after imputation \\n', train_cat1.isnull().sum())"
   ]
  },
  {
   "cell_type": "code",
   "execution_count": null,
   "metadata": {
    "id": "8-cuQmWo1JL8"
   },
   "outputs": [],
   "source": [
    "print('Missing values before imputation \\n', test_cat1.isnull().sum())\n",
    "test_cat1.fillna(train_cat1.mode().loc[0], inplace = True)\n",
    "print('\\n')\n",
    "print('Missing values after imputation \\n', test_cat1.isnull().sum())\n"
   ]
  },
  {
   "cell_type": "code",
   "execution_count": null,
   "metadata": {
    "id": "XoAOKIV91i8A"
   },
   "outputs": [],
   "source": [
    "print('Missing values before imputation \\n', test_num1.isnull().sum())\n",
    "test_num1.fillna(train_num1.median(), inplace = True)\n",
    "print('\\n')\n",
    "print('Missing values after imputation \\n', test_num1.isnull().sum())"
   ]
  },
  {
   "cell_type": "code",
   "execution_count": null,
   "metadata": {
    "id": "rzRdFaVknlcw"
   },
   "outputs": [],
   "source": [
    "train_num1.reset_index(inplace = True, drop = True)\n",
    "train_cat1.reset_index(inplace = True, drop = True)\n",
    "test_num1.reset_index(inplace = True, drop = True)\n",
    "test_cat1.reset_index(inplace = True, drop = True)"
   ]
  },
  {
   "cell_type": "code",
   "execution_count": null,
   "metadata": {
    "id": "kJ6OaPJP1ki1"
   },
   "outputs": [],
   "source": [
    "train_x5 = pd.concat([train_num1, train_cat1], axis = 1)\n",
    "test_x5 = pd.concat([test_num1, test_cat1], axis = 1) "
   ]
  },
  {
   "cell_type": "code",
   "execution_count": null,
   "metadata": {
    "id": "MQe6jES01mKA"
   },
   "outputs": [],
   "source": [
    "encoder1 = OneHotEncoder(sparse = False, handle_unknown = 'ignore')\n",
    "encoder1.fit(train_x5)\n",
    "train_x5 = pd.DataFrame(encoder1.transform(train_x5), columns = encoder1.get_feature_names_out())\n",
    "test_x5 = pd.DataFrame(encoder1.transform(test_x5), columns = encoder1.get_feature_names_out())"
   ]
  },
  {
   "cell_type": "code",
   "execution_count": null,
   "metadata": {
    "id": "qmvLFOzI1no1"
   },
   "outputs": [],
   "source": [
    "scaler1 = StandardScaler()\n",
    "scaler1.fit(train_x5)\n",
    "train_x5 = pd.DataFrame(scaler1.transform(train_x5), columns = train_x5.columns)\n",
    "test_x5 = pd.DataFrame(scaler1.transform(test_x5), columns = test_x5.columns)"
   ]
  },
  {
   "cell_type": "code",
   "execution_count": null,
   "metadata": {
    "id": "424EwWG71pWW"
   },
   "outputs": [],
   "source": [
    "model7 = LinearRegression()\n",
    "model8 = DecisionTreeRegressor(random_state = 69)\n",
    "model9 = RandomForestRegressor(random_state = 69)\n",
    "model10 = KNeighborsRegressor()\n",
    "model11 = xgb.XGBRegressor()"
   ]
  },
  {
   "cell_type": "markdown",
   "metadata": {
    "id": "-TvftklgoHbQ"
   },
   "source": [
    "***Linear Regression***"
   ]
  },
  {
   "cell_type": "code",
   "execution_count": null,
   "metadata": {
    "id": "ofketud88YbF"
   },
   "outputs": [],
   "source": [
    "model7.fit(train_x5, train_y4)\n",
    "pred7 = model7.predict(test_x5)"
   ]
  },
  {
   "cell_type": "code",
   "execution_count": null,
   "metadata": {
    "id": "V7Snv6881q6U"
   },
   "outputs": [],
   "source": [
    "mae7 = mean_absolute_error(test_y4, pred7)"
   ]
  },
  {
   "cell_type": "code",
   "execution_count": null,
   "metadata": {
    "id": "h9D8Jqa-3o9w"
   },
   "outputs": [],
   "source": [
    "mae7"
   ]
  },
  {
   "cell_type": "code",
   "execution_count": null,
   "metadata": {
    "id": "lqfyYFIR8mc8"
   },
   "outputs": [],
   "source": [
    "model8.fit(train_x5, train_y4)\n",
    "pred8 = model8.predict(test_x5)\n",
    "\n",
    "mae8 = mean_absolute_error(test_y4, pred8)\n",
    "\n",
    "mae8"
   ]
  },
  {
   "cell_type": "code",
   "execution_count": null,
   "metadata": {
    "id": "6iK-4eTd8u9l"
   },
   "outputs": [],
   "source": [
    "model9.fit(train_x5, train_y4)\n",
    "pred9 = model9.predict(test_x5)\n",
    "\n",
    "mae9 = mean_absolute_error(test_y4, pred9)\n",
    "\n",
    "mae9"
   ]
  },
  {
   "cell_type": "code",
   "execution_count": null,
   "metadata": {
    "id": "X3cwDHIu8401"
   },
   "outputs": [],
   "source": [
    "model10.fit(train_x5, train_y4)\n",
    "pred10 = model10.predict(test_x5)\n",
    "\n",
    "mae10 = mean_absolute_error(test_y4, pred10)\n",
    "\n",
    "mae10"
   ]
  },
  {
   "cell_type": "code",
   "execution_count": null,
   "metadata": {
    "id": "hGIiIgie9AG4"
   },
   "outputs": [],
   "source": [
    "model11.fit(train_x5, train_y4)\n",
    "pred11 = model11.predict(test_x5)\n",
    "\n",
    "mae11 = mean_absolute_error(test_y4, pred11)\n",
    "\n",
    "mae11"
   ]
  }
 ],
 "metadata": {
  "colab": {
   "provenance": []
  },
  "kernelspec": {
   "display_name": "Python 3 (ipykernel)",
   "language": "python",
   "name": "python3"
  },
  "language_info": {
   "codemirror_mode": {
    "name": "ipython",
    "version": 3
   },
   "file_extension": ".py",
   "mimetype": "text/x-python",
   "name": "python",
   "nbconvert_exporter": "python",
   "pygments_lexer": "ipython3",
   "version": "3.10.9"
  }
 },
 "nbformat": 4,
 "nbformat_minor": 1
}
