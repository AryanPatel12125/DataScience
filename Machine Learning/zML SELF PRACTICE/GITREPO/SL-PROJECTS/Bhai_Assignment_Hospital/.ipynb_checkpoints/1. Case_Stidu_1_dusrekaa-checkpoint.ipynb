{
 "cells": [
  {
   "cell_type": "code",
   "execution_count": 1,
   "metadata": {},
   "outputs": [],
   "source": [
    "import pandas as pd\n",
    "\n",
    "data= pd.read_csv('D1.csv')"
   ]
  },
  {
   "cell_type": "code",
   "execution_count": 2,
   "metadata": {},
   "outputs": [],
   "source": [
    "data1 = data.copy(deep=True)"
   ]
  },
  {
   "cell_type": "code",
   "execution_count": 3,
   "metadata": {},
   "outputs": [
    {
     "name": "stdout",
     "output_type": "stream",
     "text": [
      "InvoiceNo       0.000000\n",
      "StockCode       0.000000\n",
      "Description     2.990388\n",
      "Quantity        0.000000\n",
      "InvoiceDate     0.000000\n",
      "UnitPrice       0.000000\n",
      "CustomerID     20.266490\n",
      "Country         0.000000\n",
      "dtype: float64\n"
     ]
    }
   ],
   "source": [
    "total_null_val = data1.isnull().mean()*100\n",
    "print(total_null_val)"
   ]
  },
  {
   "cell_type": "code",
   "execution_count": 4,
   "metadata": {},
   "outputs": [],
   "source": [
    "data1['Description'].fillna('Na', inplace=True)"
   ]
  },
  {
   "cell_type": "code",
   "execution_count": 5,
   "metadata": {},
   "outputs": [
    {
     "data": {
      "text/plain": [
       "InvoiceNo       0.00000\n",
       "StockCode       0.00000\n",
       "Description     0.00000\n",
       "Quantity        0.00000\n",
       "InvoiceDate     0.00000\n",
       "UnitPrice       0.00000\n",
       "CustomerID     20.26649\n",
       "Country         0.00000\n",
       "dtype: float64"
      ]
     },
     "execution_count": 5,
     "metadata": {},
     "output_type": "execute_result"
    }
   ],
   "source": [
    "data1.isnull().mean()*100"
   ]
  },
  {
   "cell_type": "code",
   "execution_count": 6,
   "metadata": {},
   "outputs": [],
   "source": [
    "transactions = data1.groupby(['InvoiceNo'])['Description'].apply(list)"
   ]
  },
  {
   "cell_type": "markdown",
   "metadata": {},
   "source": [
    "Answer of Q1: \n",
    "\n",
    "The main pre-processing that we did on the dataset before building the association mining model was : \n",
    "- Found the number of null values in the dataset\n",
    "- Replaced the Null values of Description column to \"Na\"\n",
    "- created a column named transactions which contains the groupby'ed data of InvoiceNo and Description as in a list."
   ]
  },
  {
   "cell_type": "code",
   "execution_count": 7,
   "metadata": {},
   "outputs": [],
   "source": [
    "from apyori import apriori\n",
    "transaction_list = list(transactions)\n",
    "# Q2 a> What 'min_support' and 'min_confidence'...\n",
    "results = list(apriori(transaction_list, min_support=0.01,min_confidence=0.3))"
   ]
  },
  {
   "cell_type": "markdown",
   "metadata": {},
   "source": [
    "A2 (a) \n",
    "\n",
    "So in summary, the factors that led us to choose a 0.01 min_support and 0.3 min_confidence are the small data size, the retail business context, and an iterative approach to find the right levels."
   ]
  },
  {
   "cell_type": "code",
   "execution_count": 63,
   "metadata": {},
   "outputs": [
    {
     "name": "stdout",
     "output_type": "stream",
     "text": [
      "[RelationRecord(items=frozenset({'WHITE HANGING HEART T-LIGHT HOLDER', 'HEART OF WICKER SMALL'}), support=0.03849940921622686, ordered_statistics=[OrderedStatistic(items_base=frozenset({'HEART OF WICKER SMALL'}), items_add=frozenset({'WHITE HANGING HEART T-LIGHT HOLDER'}), confidence=0.32556203164029973, lift=1.4630123864331346)]), RelationRecord(items=frozenset({'JUMBO BAG PINK POLKADOT', 'JUMBO BAG RED RETROSPOT'}), support=0.08123276880661678, ordered_statistics=[OrderedStatistic(items_base=frozenset({'JUMBO BAG PINK POLKADOT'}), items_add=frozenset({'JUMBO BAG RED RETROSPOT'}), confidence=0.6773399014778325, lift=3.288271529354143), OrderedStatistic(items_base=frozenset({'JUMBO BAG RED RETROSPOT'}), items_add=frozenset({'JUMBO BAG PINK POLKADOT'}), confidence=0.3943594646271511, lift=3.288271529354143)]), RelationRecord(items=frozenset({'LUNCH BAG RED RETROSPOT', 'JUMBO BAG RED RETROSPOT'}), support=0.0570106341079165, ordered_statistics=[OrderedStatistic(items_base=frozenset({'LUNCH BAG RED RETROSPOT'}), items_add=frozenset({'JUMBO BAG RED RETROSPOT'}), confidence=0.3702046035805626, lift=1.797226555432215)]), RelationRecord(items=frozenset({'LUNCH BAG RED RETROSPOT', 'LUNCH BAG  BLACK SKULL.'}), support=0.06311539976368649, ordered_statistics=[OrderedStatistic(items_base=frozenset({'LUNCH BAG  BLACK SKULL.'}), items_add=frozenset({'LUNCH BAG RED RETROSPOT'}), confidence=0.5035349567949725, lift=3.2697576861954865), OrderedStatistic(items_base=frozenset({'LUNCH BAG RED RETROSPOT'}), items_add=frozenset({'LUNCH BAG  BLACK SKULL.'}), confidence=0.40984654731457804, lift=3.269757686195487)]), RelationRecord(items=frozenset({'NATURAL SLATE HEART CHALKBOARD ', 'WHITE HANGING HEART T-LIGHT HOLDER'}), support=0.040862544308782986, ordered_statistics=[OrderedStatistic(items_base=frozenset({'NATURAL SLATE HEART CHALKBOARD '}), items_add=frozenset({'WHITE HANGING HEART T-LIGHT HOLDER'}), confidence=0.3322658126501201, lift=1.4931378731303628)]), RelationRecord(items=frozenset({'HEART OF WICKER SMALL', 'JUMBO BAG PINK POLKADOT', 'JUMBO BAG RED RETROSPOT'}), support=0.010535643954312722, ordered_statistics=[OrderedStatistic(items_base=frozenset({'HEART OF WICKER SMALL', 'JUMBO BAG PINK POLKADOT'}), items_add=frozenset({'JUMBO BAG RED RETROSPOT'}), confidence=0.6948051948051949, lift=3.373060018375506), OrderedStatistic(items_base=frozenset({'HEART OF WICKER SMALL', 'JUMBO BAG RED RETROSPOT'}), items_add=frozenset({'JUMBO BAG PINK POLKADOT'}), confidence=0.4163424124513619, lift=3.471571051605937)]), RelationRecord(items=frozenset({'HEART OF WICKER SMALL', 'LUNCH BAG RED RETROSPOT', 'JUMBO BAG RED RETROSPOT'}), support=0.010437179992122883, ordered_statistics=[OrderedStatistic(items_base=frozenset({'HEART OF WICKER SMALL', 'JUMBO BAG RED RETROSPOT'}), items_add=frozenset({'LUNCH BAG RED RETROSPOT'}), confidence=0.4124513618677043, lift=2.678296695094888), OrderedStatistic(items_base=frozenset({'HEART OF WICKER SMALL', 'LUNCH BAG RED RETROSPOT'}), items_add=frozenset({'JUMBO BAG RED RETROSPOT'}), confidence=0.5463917525773196, lift=2.6525595789556684)]), RelationRecord(items=frozenset({'NATURAL SLATE HEART CHALKBOARD ', 'HEART OF WICKER SMALL', 'JUMBO BAG RED RETROSPOT'}), support=0.010831035840882236, ordered_statistics=[OrderedStatistic(items_base=frozenset({'HEART OF WICKER SMALL', 'JUMBO BAG RED RETROSPOT'}), items_add=frozenset({'NATURAL SLATE HEART CHALKBOARD '}), confidence=0.4280155642023346, lift=3.4803251161240274), OrderedStatistic(items_base=frozenset({'NATURAL SLATE HEART CHALKBOARD ', 'HEART OF WICKER SMALL'}), items_add=frozenset({'JUMBO BAG RED RETROSPOT'}), confidence=0.37037037037037035, lift=1.7980313008993696), OrderedStatistic(items_base=frozenset({'NATURAL SLATE HEART CHALKBOARD ', 'JUMBO BAG RED RETROSPOT'}), items_add=frozenset({'HEART OF WICKER SMALL'}), confidence=0.3448275862068965, lift=2.9159608372333397)]), RelationRecord(items=frozenset({'WHITE HANGING HEART T-LIGHT HOLDER', 'HEART OF WICKER SMALL', 'JUMBO BAG RED RETROSPOT'}), support=0.010831035840882236, ordered_statistics=[OrderedStatistic(items_base=frozenset({'HEART OF WICKER SMALL', 'JUMBO BAG RED RETROSPOT'}), items_add=frozenset({'WHITE HANGING HEART T-LIGHT HOLDER'}), confidence=0.4280155642023346, lift=1.9234186150614647)]), RelationRecord(items=frozenset({'NATURAL SLATE HEART CHALKBOARD ', 'WHITE HANGING HEART T-LIGHT HOLDER', 'HEART OF WICKER SMALL'}), support=0.015261914139424971, ordered_statistics=[OrderedStatistic(items_base=frozenset({'NATURAL SLATE HEART CHALKBOARD ', 'HEART OF WICKER SMALL'}), items_add=frozenset({'WHITE HANGING HEART T-LIGHT HOLDER'}), confidence=0.5218855218855218, lift=2.3452519293227256), OrderedStatistic(items_base=frozenset({'WHITE HANGING HEART T-LIGHT HOLDER', 'HEART OF WICKER SMALL'}), items_add=frozenset({'NATURAL SLATE HEART CHALKBOARD '}), confidence=0.39641943734015345, lift=3.223407370397597), OrderedStatistic(items_base=frozenset({'NATURAL SLATE HEART CHALKBOARD ', 'WHITE HANGING HEART T-LIGHT HOLDER'}), items_add=frozenset({'HEART OF WICKER SMALL'}), confidence=0.3734939759036145, lift=3.1583720393647865)]), RelationRecord(items=frozenset({'LUNCH BAG  BLACK SKULL.', 'JUMBO BAG PINK POLKADOT', 'JUMBO BAG RED RETROSPOT'}), support=0.01782197715636077, ordered_statistics=[OrderedStatistic(items_base=frozenset({'JUMBO BAG PINK POLKADOT', 'LUNCH BAG  BLACK SKULL.'}), items_add=frozenset({'JUMBO BAG RED RETROSPOT'}), confidence=0.70703125, lift=3.4324136591778203), OrderedStatistic(items_base=frozenset({'LUNCH BAG  BLACK SKULL.', 'JUMBO BAG RED RETROSPOT'}), items_add=frozenset({'JUMBO BAG PINK POLKADOT'}), confidence=0.4813829787234042, lift=4.01389616741781)]), RelationRecord(items=frozenset({'LUNCH BAG RED RETROSPOT', 'JUMBO BAG PINK POLKADOT', 'JUMBO BAG RED RETROSPOT'}), support=0.024517526585269792, ordered_statistics=[OrderedStatistic(items_base=frozenset({'JUMBO BAG PINK POLKADOT', 'JUMBO BAG RED RETROSPOT'}), items_add=frozenset({'LUNCH BAG RED RETROSPOT'}), confidence=0.3018181818181818, lift=1.959888398046966), OrderedStatistic(items_base=frozenset({'LUNCH BAG RED RETROSPOT', 'JUMBO BAG PINK POLKADOT'}), items_add=frozenset({'JUMBO BAG RED RETROSPOT'}), confidence=0.7708978328173376, lift=3.7424657696428683), OrderedStatistic(items_base=frozenset({'LUNCH BAG RED RETROSPOT', 'JUMBO BAG RED RETROSPOT'}), items_add=frozenset({'JUMBO BAG PINK POLKADOT'}), confidence=0.4300518134715026, lift=3.585883594102283)]), RelationRecord(items=frozenset({'NATURAL SLATE HEART CHALKBOARD ', 'JUMBO BAG PINK POLKADOT', 'JUMBO BAG RED RETROSPOT'}), support=0.01467113036628594, ordered_statistics=[OrderedStatistic(items_base=frozenset({'NATURAL SLATE HEART CHALKBOARD ', 'JUMBO BAG PINK POLKADOT'}), items_add=frozenset({'JUMBO BAG RED RETROSPOT'}), confidence=0.7602040816326531, lift=3.690550981386819), OrderedStatistic(items_base=frozenset({'NATURAL SLATE HEART CHALKBOARD ', 'JUMBO BAG RED RETROSPOT'}), items_add=frozenset({'JUMBO BAG PINK POLKADOT'}), confidence=0.46708463949843265, lift=3.8946729053744513)]), RelationRecord(items=frozenset({'PACK OF 72 RETROSPOT CAKE CASES', 'JUMBO BAG PINK POLKADOT', 'JUMBO BAG RED RETROSPOT'}), support=0.01191413942497046, ordered_statistics=[OrderedStatistic(items_base=frozenset({'PACK OF 72 RETROSPOT CAKE CASES', 'JUMBO BAG PINK POLKADOT'}), items_add=frozenset({'JUMBO BAG RED RETROSPOT'}), confidence=0.7423312883435582, lift=3.6037842086124177), OrderedStatistic(items_base=frozenset({'PACK OF 72 RETROSPOT CAKE CASES', 'JUMBO BAG RED RETROSPOT'}), items_add=frozenset({'JUMBO BAG PINK POLKADOT'}), confidence=0.36666666666666664, lift=3.0573617952928296)]), RelationRecord(items=frozenset({'PARTY BUNTING', 'JUMBO BAG PINK POLKADOT', 'JUMBO BAG RED RETROSPOT'}), support=0.012111067349350137, ordered_statistics=[OrderedStatistic(items_base=frozenset({'PARTY BUNTING', 'JUMBO BAG PINK POLKADOT'}), items_add=frozenset({'JUMBO BAG RED RETROSPOT'}), confidence=0.6577540106951871, lift=3.1931882087095222), OrderedStatistic(items_base=frozenset({'PARTY BUNTING', 'JUMBO BAG RED RETROSPOT'}), items_add=frozenset({'JUMBO BAG PINK POLKADOT'}), confidence=0.375, lift=3.126847290640394)]), RelationRecord(items=frozenset({'SET OF 3 CAKE TINS PANTRY DESIGN ', 'JUMBO BAG PINK POLKADOT', 'JUMBO BAG RED RETROSPOT'}), support=0.01260338716029933, ordered_statistics=[OrderedStatistic(items_base=frozenset({'SET OF 3 CAKE TINS PANTRY DESIGN ', 'JUMBO BAG PINK POLKADOT'}), items_add=frozenset({'JUMBO BAG RED RETROSPOT'}), confidence=0.7314285714285714, lift=3.550854957661841), OrderedStatistic(items_base=frozenset({'SET OF 3 CAKE TINS PANTRY DESIGN ', 'JUMBO BAG RED RETROSPOT'}), items_add=frozenset({'JUMBO BAG PINK POLKADOT'}), confidence=0.419672131147541, lift=3.499335109962583)]), RelationRecord(items=frozenset({'WHITE HANGING HEART T-LIGHT HOLDER', 'JUMBO BAG PINK POLKADOT', 'JUMBO BAG RED RETROSPOT'}), support=0.018018905080740447, ordered_statistics=[OrderedStatistic(items_base=frozenset({'WHITE HANGING HEART T-LIGHT HOLDER', 'JUMBO BAG PINK POLKADOT'}), items_add=frozenset({'JUMBO BAG RED RETROSPOT'}), confidence=0.7120622568093384, lift=3.456837610017037), OrderedStatistic(items_base=frozenset({'WHITE HANGING HEART T-LIGHT HOLDER', 'JUMBO BAG RED RETROSPOT'}), items_add=frozenset({'JUMBO BAG PINK POLKADOT'}), confidence=0.40757238307349664, lift=3.398444271341898)]), RelationRecord(items=frozenset({'LUNCH BAG RED RETROSPOT', 'JUMBO BAG PINK POLKADOT', 'LUNCH BAG  BLACK SKULL.'}), support=0.015458842063804648, ordered_statistics=[OrderedStatistic(items_base=frozenset({'JUMBO BAG PINK POLKADOT', 'LUNCH BAG  BLACK SKULL.'}), items_add=frozenset({'LUNCH BAG RED RETROSPOT'}), confidence=0.61328125, lift=3.9824068893861893), OrderedStatistic(items_base=frozenset({'LUNCH BAG RED RETROSPOT', 'JUMBO BAG PINK POLKADOT'}), items_add=frozenset({'LUNCH BAG  BLACK SKULL.'}), confidence=0.4860681114551084, lift=3.8778536841618862)]), RelationRecord(items=frozenset({'LUNCH BAG RED RETROSPOT', 'LUNCH BAG  BLACK SKULL.', 'JUMBO BAG RED RETROSPOT'}), support=0.023139031114612053, ordered_statistics=[OrderedStatistic(items_base=frozenset({'LUNCH BAG  BLACK SKULL.', 'JUMBO BAG RED RETROSPOT'}), items_add=frozenset({'LUNCH BAG RED RETROSPOT'}), confidence=0.625, lift=4.0585038363171355), OrderedStatistic(items_base=frozenset({'LUNCH BAG RED RETROSPOT', 'JUMBO BAG RED RETROSPOT'}), items_add=frozenset({'LUNCH BAG  BLACK SKULL.'}), confidence=0.4058721934369603, lift=3.238050272227627), OrderedStatistic(items_base=frozenset({'LUNCH BAG RED RETROSPOT', 'LUNCH BAG  BLACK SKULL.'}), items_add=frozenset({'JUMBO BAG RED RETROSPOT'}), confidence=0.3666146645865835, lift=1.7797985341975822)]), RelationRecord(items=frozenset({'PACK OF 72 RETROSPOT CAKE CASES', 'LUNCH BAG  BLACK SKULL.', 'JUMBO BAG RED RETROSPOT'}), support=0.010141788105553367, ordered_statistics=[OrderedStatistic(items_base=frozenset({'PACK OF 72 RETROSPOT CAKE CASES', 'JUMBO BAG RED RETROSPOT'}), items_add=frozenset({'LUNCH BAG  BLACK SKULL.'}), confidence=0.31212121212121213, lift=2.490104501416363), OrderedStatistic(items_base=frozenset({'PACK OF 72 RETROSPOT CAKE CASES', 'LUNCH BAG  BLACK SKULL.'}), items_add=frozenset({'JUMBO BAG RED RETROSPOT'}), confidence=0.36917562724014336, lift=1.7922311999287266)]), RelationRecord(items=frozenset({'WHITE HANGING HEART T-LIGHT HOLDER', 'LUNCH BAG  BLACK SKULL.', 'JUMBO BAG RED RETROSPOT'}), support=0.010732571878692398, ordered_statistics=[OrderedStatistic(items_base=frozenset({'WHITE HANGING HEART T-LIGHT HOLDER', 'LUNCH BAG  BLACK SKULL.'}), items_add=frozenset({'JUMBO BAG RED RETROSPOT'}), confidence=0.4144486692015209, lift=2.0120175355691425)]), RelationRecord(items=frozenset({'NATURAL SLATE HEART CHALKBOARD ', 'LUNCH BAG RED RETROSPOT', 'JUMBO BAG RED RETROSPOT'}), support=0.012504923198109492, ordered_statistics=[OrderedStatistic(items_base=frozenset({'NATURAL SLATE HEART CHALKBOARD ', 'JUMBO BAG RED RETROSPOT'}), items_add=frozenset({'LUNCH BAG RED RETROSPOT'}), confidence=0.3981191222570533, lift=2.5852287759863386), OrderedStatistic(items_base=frozenset({'NATURAL SLATE HEART CHALKBOARD ', 'LUNCH BAG RED RETROSPOT'}), items_add=frozenset({'JUMBO BAG RED RETROSPOT'}), confidence=0.5825688073394496, lift=2.828187766414651)]), RelationRecord(items=frozenset({'PACK OF 72 RETROSPOT CAKE CASES', 'LUNCH BAG RED RETROSPOT', 'JUMBO BAG RED RETROSPOT'}), support=0.013588026782197716, ordered_statistics=[OrderedStatistic(items_base=frozenset({'PACK OF 72 RETROSPOT CAKE CASES', 'JUMBO BAG RED RETROSPOT'}), items_add=frozenset({'LUNCH BAG RED RETROSPOT'}), confidence=0.4181818181818182, lift=2.7155080213903746), OrderedStatistic(items_base=frozenset({'PACK OF 72 RETROSPOT CAKE CASES', 'LUNCH BAG RED RETROSPOT'}), items_add=frozenset({'JUMBO BAG RED RETROSPOT'}), confidence=0.3988439306358381, lift=1.9362614529338298)]), RelationRecord(items=frozenset({'PARTY BUNTING', 'LUNCH BAG RED RETROSPOT', 'JUMBO BAG RED RETROSPOT'}), support=0.012406459235919653, ordered_statistics=[OrderedStatistic(items_base=frozenset({'PARTY BUNTING', 'JUMBO BAG RED RETROSPOT'}), items_add=frozenset({'LUNCH BAG RED RETROSPOT'}), confidence=0.38414634146341464, lift=2.494495040858337), OrderedStatistic(items_base=frozenset({'PARTY BUNTING', 'LUNCH BAG RED RETROSPOT'}), items_add=frozenset({'JUMBO BAG RED RETROSPOT'}), confidence=0.3949843260188088, lift=1.9175242901754408)]), RelationRecord(items=frozenset({'REGENCY CAKESTAND 3 TIER', 'LUNCH BAG RED RETROSPOT', 'JUMBO BAG RED RETROSPOT'}), support=0.011421819614021268, ordered_statistics=[OrderedStatistic(items_base=frozenset({'REGENCY CAKESTAND 3 TIER', 'JUMBO BAG RED RETROSPOT'}), items_add=frozenset({'LUNCH BAG RED RETROSPOT'}), confidence=0.40559440559440557, lift=2.633770321749861), OrderedStatistic(items_base=frozenset({'REGENCY CAKESTAND 3 TIER', 'LUNCH BAG RED RETROSPOT'}), items_add=frozenset({'JUMBO BAG RED RETROSPOT'}), confidence=0.42028985507246375, lift=2.040374650151024)]), RelationRecord(items=frozenset({'SET OF 3 CAKE TINS PANTRY DESIGN ', 'LUNCH BAG RED RETROSPOT', 'JUMBO BAG RED RETROSPOT'}), support=0.010437179992122883, ordered_statistics=[OrderedStatistic(items_base=frozenset({'SET OF 3 CAKE TINS PANTRY DESIGN ', 'JUMBO BAG RED RETROSPOT'}), items_add=frozenset({'LUNCH BAG RED RETROSPOT'}), confidence=0.3475409836065574, lift=2.2567942643914303), OrderedStatistic(items_base=frozenset({'SET OF 3 CAKE TINS PANTRY DESIGN ', 'LUNCH BAG RED RETROSPOT'}), items_add=frozenset({'JUMBO BAG RED RETROSPOT'}), confidence=0.49074074074074076, lift=2.382391473691665)]), RelationRecord(items=frozenset({'WHITE HANGING HEART T-LIGHT HOLDER', 'LUNCH BAG RED RETROSPOT', 'JUMBO BAG RED RETROSPOT'}), support=0.014868058290665617, ordered_statistics=[OrderedStatistic(items_base=frozenset({'WHITE HANGING HEART T-LIGHT HOLDER', 'JUMBO BAG RED RETROSPOT'}), items_add=frozenset({'LUNCH BAG RED RETROSPOT'}), confidence=0.3363028953229399, lift=2.1838185453323384), OrderedStatistic(items_base=frozenset({'WHITE HANGING HEART T-LIGHT HOLDER', 'LUNCH BAG RED RETROSPOT'}), items_add=frozenset({'JUMBO BAG RED RETROSPOT'}), confidence=0.4561933534743202, lift=2.2146748077845104)]), RelationRecord(items=frozenset({'NATURAL SLATE HEART CHALKBOARD ', 'PACK OF 72 RETROSPOT CAKE CASES', 'JUMBO BAG RED RETROSPOT'}), support=0.011027963765261915, ordered_statistics=[OrderedStatistic(items_base=frozenset({'NATURAL SLATE HEART CHALKBOARD ', 'JUMBO BAG RED RETROSPOT'}), items_add=frozenset({'PACK OF 72 RETROSPOT CAKE CASES'}), confidence=0.3510971786833856, lift=2.701320414173079), OrderedStatistic(items_base=frozenset({'PACK OF 72 RETROSPOT CAKE CASES', 'JUMBO BAG RED RETROSPOT'}), items_add=frozenset({'NATURAL SLATE HEART CHALKBOARD '}), confidence=0.3393939393939394, lift=2.7597156513089263), OrderedStatistic(items_base=frozenset({'NATURAL SLATE HEART CHALKBOARD ', 'PACK OF 72 RETROSPOT CAKE CASES'}), items_add=frozenset({'JUMBO BAG RED RETROSPOT'}), confidence=0.5209302325581395, lift=2.5289519320556715)]), RelationRecord(items=frozenset({'NATURAL SLATE HEART CHALKBOARD ', 'PARTY BUNTING', 'JUMBO BAG RED RETROSPOT'}), support=0.010831035840882236, ordered_statistics=[OrderedStatistic(items_base=frozenset({'NATURAL SLATE HEART CHALKBOARD ', 'JUMBO BAG RED RETROSPOT'}), items_add=frozenset({'PARTY BUNTING'}), confidence=0.3448275862068965, lift=2.0771464801407125), OrderedStatistic(items_base=frozenset({'PARTY BUNTING', 'JUMBO BAG RED RETROSPOT'}), items_add=frozenset({'NATURAL SLATE HEART CHALKBOARD '}), confidence=0.33536585365853655, lift=2.7269620574508386), OrderedStatistic(items_base=frozenset({'NATURAL SLATE HEART CHALKBOARD ', 'PARTY BUNTING'}), items_add=frozenset({'JUMBO BAG RED RETROSPOT'}), confidence=0.4280155642023346, lift=2.077880530611334)]), RelationRecord(items=frozenset({'NATURAL SLATE HEART CHALKBOARD ', 'SET OF 3 CAKE TINS PANTRY DESIGN ', 'JUMBO BAG RED RETROSPOT'}), support=0.010831035840882236, ordered_statistics=[OrderedStatistic(items_base=frozenset({'NATURAL SLATE HEART CHALKBOARD ', 'JUMBO BAG RED RETROSPOT'}), items_add=frozenset({'SET OF 3 CAKE TINS PANTRY DESIGN '}), confidence=0.3448275862068965, lift=2.528569650192954), OrderedStatistic(items_base=frozenset({'SET OF 3 CAKE TINS PANTRY DESIGN ', 'JUMBO BAG RED RETROSPOT'}), items_add=frozenset({'NATURAL SLATE HEART CHALKBOARD '}), confidence=0.360655737704918, lift=2.932601819160246), OrderedStatistic(items_base=frozenset({'NATURAL SLATE HEART CHALKBOARD ', 'SET OF 3 CAKE TINS PANTRY DESIGN '}), items_add=frozenset({'JUMBO BAG RED RETROSPOT'}), confidence=0.46413502109704635, lift=2.2532290985954124)]), RelationRecord(items=frozenset({'NATURAL SLATE HEART CHALKBOARD ', 'WHITE HANGING HEART T-LIGHT HOLDER', 'JUMBO BAG RED RETROSPOT'}), support=0.01595116187475384, ordered_statistics=[OrderedStatistic(items_base=frozenset({'NATURAL SLATE HEART CHALKBOARD ', 'JUMBO BAG RED RETROSPOT'}), items_add=frozenset({'WHITE HANGING HEART T-LIGHT HOLDER'}), confidence=0.5078369905956113, lift=2.282120564818154), OrderedStatistic(items_base=frozenset({'WHITE HANGING HEART T-LIGHT HOLDER', 'JUMBO BAG RED RETROSPOT'}), items_add=frozenset({'NATURAL SLATE HEART CHALKBOARD '}), confidence=0.3608017817371938, lift=2.9337893477365413), OrderedStatistic(items_base=frozenset({'NATURAL SLATE HEART CHALKBOARD ', 'WHITE HANGING HEART T-LIGHT HOLDER'}), items_add=frozenset({'JUMBO BAG RED RETROSPOT'}), confidence=0.39036144578313253, lift=1.8950816650924924)]), RelationRecord(items=frozenset({'PACK OF 72 RETROSPOT CAKE CASES', 'PARTY BUNTING', 'JUMBO BAG RED RETROSPOT'}), support=0.010043324143363529, ordered_statistics=[OrderedStatistic(items_base=frozenset({'PACK OF 72 RETROSPOT CAKE CASES', 'JUMBO BAG RED RETROSPOT'}), items_add=frozenset({'PARTY BUNTING'}), confidence=0.3090909090909091, lift=1.8618785721988569), OrderedStatistic(items_base=frozenset({'PARTY BUNTING', 'JUMBO BAG RED RETROSPOT'}), items_add=frozenset({'PACK OF 72 RETROSPOT CAKE CASES'}), confidence=0.31097560975609756, lift=2.3926274944567627), OrderedStatistic(items_base=frozenset({'PACK OF 72 RETROSPOT CAKE CASES', 'PARTY BUNTING'}), items_add=frozenset({'JUMBO BAG RED RETROSPOT'}), confidence=0.3366336633663366, lift=1.6342502319065557)]), RelationRecord(items=frozenset({'PACK OF 72 RETROSPOT CAKE CASES', 'REGENCY CAKESTAND 3 TIER', 'JUMBO BAG RED RETROSPOT'}), support=0.011618747538400946, ordered_statistics=[OrderedStatistic(items_base=frozenset({'PACK OF 72 RETROSPOT CAKE CASES', 'JUMBO BAG RED RETROSPOT'}), items_add=frozenset({'REGENCY CAKESTAND 3 TIER'}), confidence=0.3575757575757576, lift=1.8258116611057789), OrderedStatistic(items_base=frozenset({'REGENCY CAKESTAND 3 TIER', 'JUMBO BAG RED RETROSPOT'}), items_add=frozenset({'PACK OF 72 RETROSPOT CAKE CASES'}), confidence=0.4125874125874126, lift=3.17442254714982), OrderedStatistic(items_base=frozenset({'PACK OF 72 RETROSPOT CAKE CASES', 'REGENCY CAKESTAND 3 TIER'}), items_add=frozenset({'JUMBO BAG RED RETROSPOT'}), confidence=0.3296089385474861, lift=1.6001474091244114)]), RelationRecord(items=frozenset({'PACK OF 72 RETROSPOT CAKE CASES', 'WHITE HANGING HEART T-LIGHT HOLDER', 'JUMBO BAG RED RETROSPOT'}), support=0.012800315084679008, ordered_statistics=[OrderedStatistic(items_base=frozenset({'PACK OF 72 RETROSPOT CAKE CASES', 'JUMBO BAG RED RETROSPOT'}), items_add=frozenset({'WHITE HANGING HEART T-LIGHT HOLDER'}), confidence=0.393939393939394, lift=1.7702869401984447), OrderedStatistic(items_base=frozenset({'PACK OF 72 RETROSPOT CAKE CASES', 'WHITE HANGING HEART T-LIGHT HOLDER'}), items_add=frozenset({'JUMBO BAG RED RETROSPOT'}), confidence=0.4814814814814815, lift=2.337440691169181)]), RelationRecord(items=frozenset({'WHITE HANGING HEART T-LIGHT HOLDER', 'PARTY BUNTING', 'JUMBO BAG RED RETROSPOT'}), support=0.01260338716029933, ordered_statistics=[OrderedStatistic(items_base=frozenset({'PARTY BUNTING', 'JUMBO BAG RED RETROSPOT'}), items_add=frozenset({'WHITE HANGING HEART T-LIGHT HOLDER'}), confidence=0.39024390243902435, lift=1.753680120872005), OrderedStatistic(items_base=frozenset({'WHITE HANGING HEART T-LIGHT HOLDER', 'PARTY BUNTING'}), items_add=frozenset({'JUMBO BAG RED RETROSPOT'}), confidence=0.32904884318766064, lift=1.597428322855584)]), RelationRecord(items=frozenset({'REGENCY CAKESTAND 3 TIER', 'WHITE HANGING HEART T-LIGHT HOLDER', 'JUMBO BAG RED RETROSPOT'}), support=0.010929499803072076, ordered_statistics=[OrderedStatistic(items_base=frozenset({'REGENCY CAKESTAND 3 TIER', 'JUMBO BAG RED RETROSPOT'}), items_add=frozenset({'WHITE HANGING HEART T-LIGHT HOLDER'}), confidence=0.3881118881118881, lift=1.7440992635682901), OrderedStatistic(items_base=frozenset({'REGENCY CAKESTAND 3 TIER', 'WHITE HANGING HEART T-LIGHT HOLDER'}), items_add=frozenset({'JUMBO BAG RED RETROSPOT'}), confidence=0.3117977528089888, lift=1.513679721571745)]), RelationRecord(items=frozenset({'WHITE HANGING HEART T-LIGHT HOLDER', 'SET OF 3 CAKE TINS PANTRY DESIGN ', 'JUMBO BAG RED RETROSPOT'}), support=0.012209531311539977, ordered_statistics=[OrderedStatistic(items_base=frozenset({'SET OF 3 CAKE TINS PANTRY DESIGN ', 'JUMBO BAG RED RETROSPOT'}), items_add=frozenset({'WHITE HANGING HEART T-LIGHT HOLDER'}), confidence=0.4065573770491804, lift=1.8269896996953432), OrderedStatistic(items_base=frozenset({'WHITE HANGING HEART T-LIGHT HOLDER', 'SET OF 3 CAKE TINS PANTRY DESIGN '}), items_add=frozenset({'JUMBO BAG RED RETROSPOT'}), confidence=0.3839009287925697, lift=1.8637178933161271)]), RelationRecord(items=frozenset({'PACK OF 72 RETROSPOT CAKE CASES', 'LUNCH BAG RED RETROSPOT', 'LUNCH BAG  BLACK SKULL.'}), support=0.016935801496652227, ordered_statistics=[OrderedStatistic(items_base=frozenset({'PACK OF 72 RETROSPOT CAKE CASES', 'LUNCH BAG  BLACK SKULL.'}), items_add=frozenset({'LUNCH BAG RED RETROSPOT'}), confidence=0.6164874551971327, lift=4.003226723134322), OrderedStatistic(items_base=frozenset({'PACK OF 72 RETROSPOT CAKE CASES', 'LUNCH BAG RED RETROSPOT'}), items_add=frozenset({'LUNCH BAG  BLACK SKULL.'}), confidence=0.4971098265895954, lift=3.9659445395474715)]), RelationRecord(items=frozenset({'PARTY BUNTING', 'LUNCH BAG RED RETROSPOT', 'LUNCH BAG  BLACK SKULL.'}), support=0.01467113036628594, ordered_statistics=[OrderedStatistic(items_base=frozenset({'PARTY BUNTING', 'LUNCH BAG  BLACK SKULL.'}), items_add=frozenset({'LUNCH BAG RED RETROSPOT'}), confidence=0.5936254980079682, lift=3.854770177601614), OrderedStatistic(items_base=frozenset({'PARTY BUNTING', 'LUNCH BAG RED RETROSPOT'}), items_add=frozenset({'LUNCH BAG  BLACK SKULL.'}), confidence=0.46708463949843265, lift=3.7264034554171896)]), RelationRecord(items=frozenset({'REGENCY CAKESTAND 3 TIER', 'LUNCH BAG RED RETROSPOT', 'LUNCH BAG  BLACK SKULL.'}), support=0.013686490744387554, ordered_statistics=[OrderedStatistic(items_base=frozenset({'REGENCY CAKESTAND 3 TIER', 'LUNCH BAG  BLACK SKULL.'}), items_add=frozenset({'LUNCH BAG RED RETROSPOT'}), confidence=0.5889830508474576, lift=3.8246239542242835), OrderedStatistic(items_base=frozenset({'REGENCY CAKESTAND 3 TIER', 'LUNCH BAG RED RETROSPOT'}), items_add=frozenset({'LUNCH BAG  BLACK SKULL.'}), confidence=0.5036231884057971, lift=4.017908170816399)]), RelationRecord(items=frozenset({'WHITE HANGING HEART T-LIGHT HOLDER', 'LUNCH BAG RED RETROSPOT', 'LUNCH BAG  BLACK SKULL.'}), support=0.014080346593146909, ordered_statistics=[OrderedStatistic(items_base=frozenset({'WHITE HANGING HEART T-LIGHT HOLDER', 'LUNCH BAG  BLACK SKULL.'}), items_add=frozenset({'LUNCH BAG RED RETROSPOT'}), confidence=0.5437262357414449, lift=3.5307440218606865), OrderedStatistic(items_base=frozenset({'WHITE HANGING HEART T-LIGHT HOLDER', 'LUNCH BAG RED RETROSPOT'}), items_add=frozenset({'LUNCH BAG  BLACK SKULL.'}), confidence=0.43202416918429, lift=3.4466908580012956)]), RelationRecord(items=frozenset({'PACK OF 72 RETROSPOT CAKE CASES', 'PARTY BUNTING', 'LUNCH BAG  BLACK SKULL.'}), support=0.012701851122489168, ordered_statistics=[OrderedStatistic(items_base=frozenset({'PACK OF 72 RETROSPOT CAKE CASES', 'LUNCH BAG  BLACK SKULL.'}), items_add=frozenset({'PARTY BUNTING'}), confidence=0.46236559139784944, lift=2.7851630760596437), OrderedStatistic(items_base=frozenset({'PARTY BUNTING', 'LUNCH BAG  BLACK SKULL.'}), items_add=frozenset({'PACK OF 72 RETROSPOT CAKE CASES'}), confidence=0.5139442231075697, lift=3.9542557044549076), OrderedStatistic(items_base=frozenset({'PACK OF 72 RETROSPOT CAKE CASES', 'PARTY BUNTING'}), items_add=frozenset({'LUNCH BAG  BLACK SKULL.'}), confidence=0.42574257425742573, lift=3.3965762640678836)]), RelationRecord(items=frozenset({'PACK OF 72 RETROSPOT CAKE CASES', 'REGENCY CAKESTAND 3 TIER', 'LUNCH BAG  BLACK SKULL.'}), support=0.012800315084679008, ordered_statistics=[OrderedStatistic(items_base=frozenset({'PACK OF 72 RETROSPOT CAKE CASES', 'LUNCH BAG  BLACK SKULL.'}), items_add=frozenset({'REGENCY CAKESTAND 3 TIER'}), confidence=0.4659498207885305, lift=2.3791786726638087), OrderedStatistic(items_base=frozenset({'REGENCY CAKESTAND 3 TIER', 'LUNCH BAG  BLACK SKULL.'}), items_add=frozenset({'PACK OF 72 RETROSPOT CAKE CASES'}), confidence=0.5508474576271186, lift=4.238186954288649), OrderedStatistic(items_base=frozenset({'PACK OF 72 RETROSPOT CAKE CASES', 'REGENCY CAKESTAND 3 TIER'}), items_add=frozenset({'LUNCH BAG  BLACK SKULL.'}), confidence=0.36312849162011174, lift=2.8970408176699567)]), RelationRecord(items=frozenset({'REGENCY CAKESTAND 3 TIER', 'PARTY BUNTING', 'LUNCH BAG  BLACK SKULL.'}), support=0.01132335565183143, ordered_statistics=[OrderedStatistic(items_base=frozenset({'PARTY BUNTING', 'LUNCH BAG  BLACK SKULL.'}), items_add=frozenset({'REGENCY CAKESTAND 3 TIER'}), confidence=0.4581673306772908, lift=2.339440628636785), OrderedStatistic(items_base=frozenset({'REGENCY CAKESTAND 3 TIER', 'LUNCH BAG  BLACK SKULL.'}), items_add=frozenset({'PARTY BUNTING'}), confidence=0.4872881355932203, lift=2.935289623419185)]), RelationRecord(items=frozenset({'NATURAL SLATE HEART CHALKBOARD ', 'WHITE HANGING HEART T-LIGHT HOLDER', 'LUNCH BAG RED RETROSPOT'}), support=0.010437179992122883, ordered_statistics=[OrderedStatistic(items_base=frozenset({'NATURAL SLATE HEART CHALKBOARD ', 'LUNCH BAG RED RETROSPOT'}), items_add=frozenset({'WHITE HANGING HEART T-LIGHT HOLDER'}), confidence=0.48623853211009177, lift=2.185061297393846), OrderedStatistic(items_base=frozenset({'WHITE HANGING HEART T-LIGHT HOLDER', 'LUNCH BAG RED RETROSPOT'}), items_add=frozenset({'NATURAL SLATE HEART CHALKBOARD '}), confidence=0.3202416918429003, lift=2.6039828841925505)]), RelationRecord(items=frozenset({'PACK OF 72 RETROSPOT CAKE CASES', 'PARTY BUNTING', 'LUNCH BAG RED RETROSPOT'}), support=0.01260338716029933, ordered_statistics=[OrderedStatistic(items_base=frozenset({'PACK OF 72 RETROSPOT CAKE CASES', 'LUNCH BAG RED RETROSPOT'}), items_add=frozenset({'PARTY BUNTING'}), confidence=0.3699421965317919, lift=2.2284299810064523), OrderedStatistic(items_base=frozenset({'PARTY BUNTING', 'LUNCH BAG RED RETROSPOT'}), items_add=frozenset({'PACK OF 72 RETROSPOT CAKE CASES'}), confidence=0.4012539184952978, lift=3.0872233304835186), OrderedStatistic(items_base=frozenset({'PACK OF 72 RETROSPOT CAKE CASES', 'PARTY BUNTING'}), items_add=frozenset({'LUNCH BAG RED RETROSPOT'}), confidence=0.42244224422442245, lift=2.743173550091582)]), RelationRecord(items=frozenset({'PACK OF 72 RETROSPOT CAKE CASES', 'LUNCH BAG RED RETROSPOT', 'REGENCY CAKESTAND 3 TIER'}), support=0.014178810555336747, ordered_statistics=[OrderedStatistic(items_base=frozenset({'PACK OF 72 RETROSPOT CAKE CASES', 'LUNCH BAG RED RETROSPOT'}), items_add=frozenset({'REGENCY CAKESTAND 3 TIER'}), confidence=0.41618497109826585, lift=2.1250751968195014), OrderedStatistic(items_base=frozenset({'REGENCY CAKESTAND 3 TIER', 'LUNCH BAG RED RETROSPOT'}), items_add=frozenset({'PACK OF 72 RETROSPOT CAKE CASES'}), confidence=0.5217391304347826, lift=4.014229249011858), OrderedStatistic(items_base=frozenset({'PACK OF 72 RETROSPOT CAKE CASES', 'REGENCY CAKESTAND 3 TIER'}), items_add=frozenset({'LUNCH BAG RED RETROSPOT'}), confidence=0.4022346368715084, lift=2.611953306948235)]), RelationRecord(items=frozenset({'PACK OF 72 RETROSPOT CAKE CASES', 'LUNCH BAG RED RETROSPOT', 'WHITE HANGING HEART T-LIGHT HOLDER'}), support=0.010338716029933045, ordered_statistics=[OrderedStatistic(items_base=frozenset({'PACK OF 72 RETROSPOT CAKE CASES', 'LUNCH BAG RED RETROSPOT'}), items_add=frozenset({'WHITE HANGING HEART T-LIGHT HOLDER'}), confidence=0.30346820809248554, lift=1.3637270448616297), OrderedStatistic(items_base=frozenset({'WHITE HANGING HEART T-LIGHT HOLDER', 'LUNCH BAG RED RETROSPOT'}), items_add=frozenset({'PACK OF 72 RETROSPOT CAKE CASES'}), confidence=0.3172205438066465, lift=2.4406756385608346), OrderedStatistic(items_base=frozenset({'PACK OF 72 RETROSPOT CAKE CASES', 'WHITE HANGING HEART T-LIGHT HOLDER'}), items_add=frozenset({'LUNCH BAG RED RETROSPOT'}), confidence=0.38888888888888895, lift=2.5252912759306625)]), RelationRecord(items=frozenset({'REGENCY CAKESTAND 3 TIER', 'PARTY BUNTING', 'LUNCH BAG RED RETROSPOT'}), support=0.013095706971248523, ordered_statistics=[OrderedStatistic(items_base=frozenset({'PARTY BUNTING', 'LUNCH BAG RED RETROSPOT'}), items_add=frozenset({'REGENCY CAKESTAND 3 TIER'}), confidence=0.4169278996865204, lift=2.1288686521952243), OrderedStatistic(items_base=frozenset({'REGENCY CAKESTAND 3 TIER', 'LUNCH BAG RED RETROSPOT'}), items_add=frozenset({'PARTY BUNTING'}), confidence=0.48188405797101447, lift=2.902736947066206), OrderedStatistic(items_base=frozenset({'REGENCY CAKESTAND 3 TIER', 'PARTY BUNTING'}), items_add=frozenset({'LUNCH BAG RED RETROSPOT'}), confidence=0.3367088607594937, lift=2.1864547249830038)]), RelationRecord(items=frozenset({'WHITE HANGING HEART T-LIGHT HOLDER', 'PARTY BUNTING', 'LUNCH BAG RED RETROSPOT'}), support=0.010240252067743205, ordered_statistics=[OrderedStatistic(items_base=frozenset({'PARTY BUNTING', 'LUNCH BAG RED RETROSPOT'}), items_add=frozenset({'WHITE HANGING HEART T-LIGHT HOLDER'}), confidence=0.32601880877742945, lift=1.4650650539573333), OrderedStatistic(items_base=frozenset({'WHITE HANGING HEART T-LIGHT HOLDER', 'LUNCH BAG RED RETROSPOT'}), items_add=frozenset({'PARTY BUNTING'}), confidence=0.3141993957703927, lift=1.8926506900617488)]), RelationRecord(items=frozenset({'NATURAL SLATE HEART CHALKBOARD ', 'PACK OF 72 RETROSPOT CAKE CASES', 'WHITE HANGING HEART T-LIGHT HOLDER'}), support=0.01132335565183143, ordered_statistics=[OrderedStatistic(items_base=frozenset({'NATURAL SLATE HEART CHALKBOARD ', 'PACK OF 72 RETROSPOT CAKE CASES'}), items_add=frozenset({'WHITE HANGING HEART T-LIGHT HOLDER'}), confidence=0.5348837209302325, lift=2.4036633052068326), OrderedStatistic(items_base=frozenset({'PACK OF 72 RETROSPOT CAKE CASES', 'WHITE HANGING HEART T-LIGHT HOLDER'}), items_add=frozenset({'NATURAL SLATE HEART CHALKBOARD '}), confidence=0.42592592592592593, lift=3.4633336298668564)]), RelationRecord(items=frozenset({'NATURAL SLATE HEART CHALKBOARD ', 'WHITE HANGING HEART T-LIGHT HOLDER', 'PARTY BUNTING'}), support=0.011126427727451753, ordered_statistics=[OrderedStatistic(items_base=frozenset({'NATURAL SLATE HEART CHALKBOARD ', 'PARTY BUNTING'}), items_add=frozenset({'WHITE HANGING HEART T-LIGHT HOLDER'}), confidence=0.43968871595330744, lift=1.975875486381323)]), RelationRecord(items=frozenset({'NATURAL SLATE HEART CHALKBOARD ', 'REGENCY CAKESTAND 3 TIER', 'WHITE HANGING HEART T-LIGHT HOLDER'}), support=0.011224891689641591, ordered_statistics=[OrderedStatistic(items_base=frozenset({'NATURAL SLATE HEART CHALKBOARD ', 'REGENCY CAKESTAND 3 TIER'}), items_add=frozenset({'WHITE HANGING HEART T-LIGHT HOLDER'}), confidence=0.4892703862660944, lift=2.1986858596984313), OrderedStatistic(items_base=frozenset({'REGENCY CAKESTAND 3 TIER', 'WHITE HANGING HEART T-LIGHT HOLDER'}), items_add=frozenset({'NATURAL SLATE HEART CHALKBOARD '}), confidence=0.3202247191011236, lift=2.6038448736517306)]), RelationRecord(items=frozenset({'NATURAL SLATE HEART CHALKBOARD ', 'WHITE HANGING HEART T-LIGHT HOLDER', 'SET OF 3 CAKE TINS PANTRY DESIGN '}), support=0.012111067349350137, ordered_statistics=[OrderedStatistic(items_base=frozenset({'NATURAL SLATE HEART CHALKBOARD ', 'SET OF 3 CAKE TINS PANTRY DESIGN '}), items_add=frozenset({'WHITE HANGING HEART T-LIGHT HOLDER'}), confidence=0.5189873417721519, lift=2.3322280721406967), OrderedStatistic(items_base=frozenset({'WHITE HANGING HEART T-LIGHT HOLDER', 'SET OF 3 CAKE TINS PANTRY DESIGN '}), items_add=frozenset({'NATURAL SLATE HEART CHALKBOARD '}), confidence=0.38080495356037153, lift=3.09644123967905)]), RelationRecord(items=frozenset({'PACK OF 72 RETROSPOT CAKE CASES', 'PARTY BUNTING', 'REGENCY CAKESTAND 3 TIER'}), support=0.015163450177235131, ordered_statistics=[OrderedStatistic(items_base=frozenset({'PACK OF 72 RETROSPOT CAKE CASES', 'PARTY BUNTING'}), items_add=frozenset({'REGENCY CAKESTAND 3 TIER'}), confidence=0.5082508250825082, lift=2.595171130989418), OrderedStatistic(items_base=frozenset({'PACK OF 72 RETROSPOT CAKE CASES', 'REGENCY CAKESTAND 3 TIER'}), items_add=frozenset({'PARTY BUNTING'}), confidence=0.4301675977653631, lift=2.5912112235498386), OrderedStatistic(items_base=frozenset({'REGENCY CAKESTAND 3 TIER', 'PARTY BUNTING'}), items_add=frozenset({'PACK OF 72 RETROSPOT CAKE CASES'}), confidence=0.38987341772151896, lift=2.999662447257384)]), RelationRecord(items=frozenset({'PACK OF 72 RETROSPOT CAKE CASES', 'WHITE HANGING HEART T-LIGHT HOLDER', 'REGENCY CAKESTAND 3 TIER'}), support=0.01063410791650256, ordered_statistics=[OrderedStatistic(items_base=frozenset({'PACK OF 72 RETROSPOT CAKE CASES', 'REGENCY CAKESTAND 3 TIER'}), items_add=frozenset({'WHITE HANGING HEART T-LIGHT HOLDER'}), confidence=0.3016759776536313, lift=1.3556731101992388), OrderedStatistic(items_base=frozenset({'PACK OF 72 RETROSPOT CAKE CASES', 'WHITE HANGING HEART T-LIGHT HOLDER'}), items_add=frozenset({'REGENCY CAKESTAND 3 TIER'}), confidence=0.4, lift=2.042433383609854), OrderedStatistic(items_base=frozenset({'REGENCY CAKESTAND 3 TIER', 'WHITE HANGING HEART T-LIGHT HOLDER'}), items_add=frozenset({'PACK OF 72 RETROSPOT CAKE CASES'}), confidence=0.30337078651685395, lift=2.3341164453524006)]), RelationRecord(items=frozenset({'REGENCY CAKESTAND 3 TIER', 'PARTY BUNTING', 'WHITE HANGING HEART T-LIGHT HOLDER'}), support=0.010831035840882236, ordered_statistics=[OrderedStatistic(items_base=frozenset({'REGENCY CAKESTAND 3 TIER', 'WHITE HANGING HEART T-LIGHT HOLDER'}), items_add=frozenset({'PARTY BUNTING'}), confidence=0.3089887640449438, lift=1.8612632785530543)]), RelationRecord(items=frozenset({'REGENCY CAKESTAND 3 TIER', 'SET OF 3 CAKE TINS PANTRY DESIGN ', 'WHITE HANGING HEART T-LIGHT HOLDER'}), support=0.010240252067743205, ordered_statistics=[OrderedStatistic(items_base=frozenset({'REGENCY CAKESTAND 3 TIER', 'SET OF 3 CAKE TINS PANTRY DESIGN '}), items_add=frozenset({'WHITE HANGING HEART T-LIGHT HOLDER'}), confidence=0.3333333333333333, lift=1.4979351032448376), OrderedStatistic(items_base=frozenset({'WHITE HANGING HEART T-LIGHT HOLDER', 'SET OF 3 CAKE TINS PANTRY DESIGN '}), items_add=frozenset({'REGENCY CAKESTAND 3 TIER'}), confidence=0.3219814241486068, lift=1.6440640239583966)]), RelationRecord(items=frozenset({'LUNCH BAG RED RETROSPOT', 'LUNCH BAG  BLACK SKULL.', 'JUMBO BAG PINK POLKADOT', 'JUMBO BAG RED RETROSPOT'}), support=0.012307995273729815, ordered_statistics=[OrderedStatistic(items_base=frozenset({'JUMBO BAG PINK POLKADOT', 'LUNCH BAG  BLACK SKULL.'}), items_add=frozenset({'LUNCH BAG RED RETROSPOT', 'JUMBO BAG RED RETROSPOT'}), confidence=0.48828125000000006, lift=8.564739853195166), OrderedStatistic(items_base=frozenset({'LUNCH BAG RED RETROSPOT', 'JUMBO BAG PINK POLKADOT'}), items_add=frozenset({'JUMBO BAG RED RETROSPOT', 'LUNCH BAG  BLACK SKULL.'}), confidence=0.38699690402476783, lift=10.45303339700942), OrderedStatistic(items_base=frozenset({'LUNCH BAG  BLACK SKULL.', 'JUMBO BAG RED RETROSPOT'}), items_add=frozenset({'LUNCH BAG RED RETROSPOT', 'JUMBO BAG PINK POLKADOT'}), confidence=0.3324468085106383, lift=10.45303339700942), OrderedStatistic(items_base=frozenset({'LUNCH BAG  BLACK SKULL.', 'JUMBO BAG PINK POLKADOT', 'JUMBO BAG RED RETROSPOT'}), items_add=frozenset({'LUNCH BAG RED RETROSPOT'}), confidence=0.6906077348066298, lift=4.484534625764791), OrderedStatistic(items_base=frozenset({'LUNCH BAG RED RETROSPOT', 'JUMBO BAG PINK POLKADOT', 'JUMBO BAG RED RETROSPOT'}), items_add=frozenset({'LUNCH BAG  BLACK SKULL.'}), confidence=0.5020080321285141, lift=4.005022446423558), OrderedStatistic(items_base=frozenset({'LUNCH BAG RED RETROSPOT', 'JUMBO BAG PINK POLKADOT', 'LUNCH BAG  BLACK SKULL.'}), items_add=frozenset({'JUMBO BAG RED RETROSPOT'}), confidence=0.7961783439490446, lift=3.8651946755002378), OrderedStatistic(items_base=frozenset({'LUNCH BAG RED RETROSPOT', 'LUNCH BAG  BLACK SKULL.', 'JUMBO BAG RED RETROSPOT'}), items_add=frozenset({'JUMBO BAG PINK POLKADOT'}), confidence=0.5319148936170213, lift=4.435244383887084)])]\n"
     ]
    }
   ],
   "source": [
    "print(results)"
   ]
  },
  {
   "cell_type": "code",
   "execution_count": 64,
   "metadata": {},
   "outputs": [
    {
     "name": "stdout",
     "output_type": "stream",
     "text": [
      "[RelationRecord(items=frozenset({'WHITE HANGING HEART T-LIGHT HOLDER', 'HEART OF WICKER SMALL'}), support=0.03849940921622686, ordered_statistics=[OrderedStatistic(items_base=frozenset({'HEART OF WICKER SMALL'}), items_add=frozenset({'WHITE HANGING HEART T-LIGHT HOLDER'}), confidence=0.32556203164029973, lift=1.4630123864331346)]), RelationRecord(items=frozenset({'JUMBO BAG PINK POLKADOT', 'JUMBO BAG RED RETROSPOT'}), support=0.08123276880661678, ordered_statistics=[OrderedStatistic(items_base=frozenset({'JUMBO BAG PINK POLKADOT'}), items_add=frozenset({'JUMBO BAG RED RETROSPOT'}), confidence=0.6773399014778325, lift=3.288271529354143), OrderedStatistic(items_base=frozenset({'JUMBO BAG RED RETROSPOT'}), items_add=frozenset({'JUMBO BAG PINK POLKADOT'}), confidence=0.3943594646271511, lift=3.288271529354143)]), RelationRecord(items=frozenset({'LUNCH BAG RED RETROSPOT', 'JUMBO BAG RED RETROSPOT'}), support=0.0570106341079165, ordered_statistics=[OrderedStatistic(items_base=frozenset({'LUNCH BAG RED RETROSPOT'}), items_add=frozenset({'JUMBO BAG RED RETROSPOT'}), confidence=0.3702046035805626, lift=1.797226555432215)]), RelationRecord(items=frozenset({'LUNCH BAG RED RETROSPOT', 'LUNCH BAG  BLACK SKULL.'}), support=0.06311539976368649, ordered_statistics=[OrderedStatistic(items_base=frozenset({'LUNCH BAG  BLACK SKULL.'}), items_add=frozenset({'LUNCH BAG RED RETROSPOT'}), confidence=0.5035349567949725, lift=3.2697576861954865), OrderedStatistic(items_base=frozenset({'LUNCH BAG RED RETROSPOT'}), items_add=frozenset({'LUNCH BAG  BLACK SKULL.'}), confidence=0.40984654731457804, lift=3.269757686195487)]), RelationRecord(items=frozenset({'NATURAL SLATE HEART CHALKBOARD ', 'WHITE HANGING HEART T-LIGHT HOLDER'}), support=0.040862544308782986, ordered_statistics=[OrderedStatistic(items_base=frozenset({'NATURAL SLATE HEART CHALKBOARD '}), items_add=frozenset({'WHITE HANGING HEART T-LIGHT HOLDER'}), confidence=0.3322658126501201, lift=1.4931378731303628)])]\n"
     ]
    }
   ],
   "source": [
    "# Q2 b> Print the first 5 rules\n",
    "print(results[:5])"
   ]
  },
  {
   "cell_type": "markdown",
   "metadata": {},
   "source": [
    "A2 (b)\n",
    "\n",
    "- Customers who buy HEART OF WICKER SMALL also tend to buy WHITE HANGING HEART T-LIGHT HOLDER 32.56% of the time.\n",
    "\n",
    "\n",
    "- There is a strong association between JUMBO BAG PINK POLKADOT and JUMBO BAG RED RETROSPOT in both directions.\n",
    "\n",
    "\n",
    "- Customers who buy LUNCH BAG RED RETROSPOT also buy JUMBO BAG RED RETROSPOT 37% of the time.\n",
    "\n",
    "\n",
    "- There is a reciprocal relationship between LUNCH BAG RED RETROSPOT and LUNCH BAG BLACK SKULL.\n",
    "\n",
    "- If a customer purchases NATURAL SLATE HEART CHALKBOARD, they will also buy WHITE HANGING HEART T-LIGHT HOLDER 33% of the time, which is 49% higher than expected."
   ]
  },
  {
   "cell_type": "code",
   "execution_count": 67,
   "metadata": {},
   "outputs": [
    {
     "name": "stdout",
     "output_type": "stream",
     "text": [
      "                                            Left_side  \\\n",
      "0                               HEART OF WICKER SMALL   \n",
      "1                             JUMBO BAG PINK POLKADOT   \n",
      "2                             JUMBO BAG RED RETROSPOT   \n",
      "3                             LUNCH BAG RED RETROSPOT   \n",
      "4                             LUNCH BAG  BLACK SKULL.   \n",
      "5                             LUNCH BAG RED RETROSPOT   \n",
      "6                     NATURAL SLATE HEART CHALKBOARD    \n",
      "7       HEART OF WICKER SMALL,JUMBO BAG PINK POLKADOT   \n",
      "8       HEART OF WICKER SMALL,JUMBO BAG RED RETROSPOT   \n",
      "9       HEART OF WICKER SMALL,JUMBO BAG RED RETROSPOT   \n",
      "10      HEART OF WICKER SMALL,LUNCH BAG RED RETROSPOT   \n",
      "11      HEART OF WICKER SMALL,JUMBO BAG RED RETROSPOT   \n",
      "12  NATURAL SLATE HEART CHALKBOARD ,HEART OF WICKE...   \n",
      "13  NATURAL SLATE HEART CHALKBOARD ,JUMBO BAG RED ...   \n",
      "14      HEART OF WICKER SMALL,JUMBO BAG RED RETROSPOT   \n",
      "15  NATURAL SLATE HEART CHALKBOARD ,HEART OF WICKE...   \n",
      "16  WHITE HANGING HEART T-LIGHT HOLDER,HEART OF WI...   \n",
      "17  NATURAL SLATE HEART CHALKBOARD ,WHITE HANGING ...   \n",
      "18    JUMBO BAG PINK POLKADOT,LUNCH BAG  BLACK SKULL.   \n",
      "19    LUNCH BAG  BLACK SKULL.,JUMBO BAG RED RETROSPOT   \n",
      "\n",
      "                            Right_side   Support  Confidence      Lift  \n",
      "0   WHITE HANGING HEART T-LIGHT HOLDER  0.038499    0.325562  1.463012  \n",
      "1              JUMBO BAG RED RETROSPOT  0.081233    0.677340  3.288272  \n",
      "2              JUMBO BAG PINK POLKADOT  0.081233    0.394359  3.288272  \n",
      "3              JUMBO BAG RED RETROSPOT  0.057011    0.370205  1.797227  \n",
      "4              LUNCH BAG RED RETROSPOT  0.063115    0.503535  3.269758  \n",
      "5              LUNCH BAG  BLACK SKULL.  0.063115    0.409847  3.269758  \n",
      "6   WHITE HANGING HEART T-LIGHT HOLDER  0.040863    0.332266  1.493138  \n",
      "7              JUMBO BAG RED RETROSPOT  0.010536    0.694805  3.373060  \n",
      "8              JUMBO BAG PINK POLKADOT  0.010536    0.416342  3.471571  \n",
      "9              LUNCH BAG RED RETROSPOT  0.010437    0.412451  2.678297  \n",
      "10             JUMBO BAG RED RETROSPOT  0.010437    0.546392  2.652560  \n",
      "11     NATURAL SLATE HEART CHALKBOARD   0.010831    0.428016  3.480325  \n",
      "12             JUMBO BAG RED RETROSPOT  0.010831    0.370370  1.798031  \n",
      "13               HEART OF WICKER SMALL  0.010831    0.344828  2.915961  \n",
      "14  WHITE HANGING HEART T-LIGHT HOLDER  0.010831    0.428016  1.923419  \n",
      "15  WHITE HANGING HEART T-LIGHT HOLDER  0.015262    0.521886  2.345252  \n",
      "16     NATURAL SLATE HEART CHALKBOARD   0.015262    0.396419  3.223407  \n",
      "17               HEART OF WICKER SMALL  0.015262    0.373494  3.158372  \n",
      "18             JUMBO BAG RED RETROSPOT  0.017822    0.707031  3.432414  \n",
      "19             JUMBO BAG PINK POLKADOT  0.017822    0.481383  4.013896  \n"
     ]
    }
   ],
   "source": [
    "def convert_to_df(results):\n",
    "    rules = []\n",
    "\n",
    "    for rule_set in results:\n",
    "        for rule in rule_set.ordered_statistics:\n",
    "            rules.append([','.join(rule.items_base), ','.join(rule.items_add),\n",
    "                         rule_set.support, rule.confidence, rule.lift])\n",
    "\n",
    "    # typecast it to pandas df\n",
    "    return pd.DataFrame(rules, columns=['Left_side', 'Right_side', 'Support',\n",
    "                                        'Confidence', 'Lift'])\n",
    "\n",
    "result_df = convert_to_df(results)\n",
    "\n",
    "print(result_df.head(20))"
   ]
  },
  {
   "cell_type": "code",
   "execution_count": 68,
   "metadata": {},
   "outputs": [
    {
     "name": "stdout",
     "output_type": "stream",
     "text": [
      "                                             Left_side  \\\n",
      "331    LUNCH BAG  BLACK SKULL.,JUMBO BAG RED RETROSPOT   \n",
      "330    LUNCH BAG RED RETROSPOT,JUMBO BAG PINK POLKADOT   \n",
      "332    LUNCH BAG RED RETROSPOT,JUMBO BAG RED RETROSPOT   \n",
      "329    JUMBO BAG PINK POLKADOT,LUNCH BAG  BLACK SKULL.   \n",
      "334  LUNCH BAG  BLACK SKULL.,JUMBO BAG PINK POLKADO...   \n",
      "\n",
      "                                          Right_side   Support  Confidence  \\\n",
      "331  LUNCH BAG RED RETROSPOT,JUMBO BAG PINK POLKADOT  0.012308    0.332447   \n",
      "330  JUMBO BAG RED RETROSPOT,LUNCH BAG  BLACK SKULL.  0.012308    0.386997   \n",
      "332  JUMBO BAG PINK POLKADOT,LUNCH BAG  BLACK SKULL.  0.012308    0.215889   \n",
      "329  LUNCH BAG RED RETROSPOT,JUMBO BAG RED RETROSPOT  0.012308    0.488281   \n",
      "334                          LUNCH BAG RED RETROSPOT  0.012308    0.690608   \n",
      "\n",
      "          Lift  \n",
      "331  10.453033  \n",
      "330  10.453033  \n",
      "332   8.564740  \n",
      "329   8.564740  \n",
      "334   4.484535  \n"
     ]
    }
   ],
   "source": [
    "result_df = list(apriori(transaction_list, min_support=0.01, min_confidence=0.1))\n",
    "result_df = convert_to_df(result_df)\n",
    "# sort all acquired rules descending by lift\n",
    "result_df = result_df.sort_values(by='Lift', ascending=False)\n",
    "print(result_df.head(5))"
   ]
  },
  {
   "cell_type": "code",
   "execution_count": 69,
   "metadata": {},
   "outputs": [
    {
     "name": "stdout",
     "output_type": "stream",
     "text": [
      "                                             Left_side  \\\n",
      "331    LUNCH BAG  BLACK SKULL.,JUMBO BAG RED RETROSPOT   \n",
      "330    LUNCH BAG RED RETROSPOT,JUMBO BAG PINK POLKADOT   \n",
      "332    LUNCH BAG RED RETROSPOT,JUMBO BAG RED RETROSPOT   \n",
      "329    JUMBO BAG PINK POLKADOT,LUNCH BAG  BLACK SKULL.   \n",
      "334  LUNCH BAG  BLACK SKULL.,JUMBO BAG PINK POLKADO...   \n",
      "\n",
      "                                          Right_side   Support  Confidence  \\\n",
      "331  LUNCH BAG RED RETROSPOT,JUMBO BAG PINK POLKADOT  0.012308    0.332447   \n",
      "330  JUMBO BAG RED RETROSPOT,LUNCH BAG  BLACK SKULL.  0.012308    0.386997   \n",
      "332  JUMBO BAG PINK POLKADOT,LUNCH BAG  BLACK SKULL.  0.012308    0.215889   \n",
      "329  LUNCH BAG RED RETROSPOT,JUMBO BAG RED RETROSPOT  0.012308    0.488281   \n",
      "334                          LUNCH BAG RED RETROSPOT  0.012308    0.690608   \n",
      "\n",
      "          Lift  \n",
      "331  10.453033  \n",
      "330  10.453033  \n",
      "332   8.564740  \n",
      "329   8.564740  \n",
      "334   4.484535  \n"
     ]
    }
   ],
   "source": [
    "results001 = list(apriori(transaction_list, min_support=0.01, min_confidence=0.1))\n",
    "results001_df = convert_to_df(results001)\n",
    "# sort all acquired rules descending by lift\n",
    "results001_df = results001_df.sort_values(by='Lift', ascending=False)\n",
    "print(results001_df.head(5))"
   ]
  },
  {
   "cell_type": "code",
   "execution_count": 70,
   "metadata": {},
   "outputs": [
    {
     "name": "stdout",
     "output_type": "stream",
     "text": [
      "                   Left_side  \\\n",
      "327  JUMBO BAG PINK POLKADOT   \n",
      "154  JUMBO BAG PINK POLKADOT   \n",
      "165  JUMBO BAG PINK POLKADOT   \n",
      "159  JUMBO BAG PINK POLKADOT   \n",
      "177  JUMBO BAG PINK POLKADOT   \n",
      "\n",
      "                                            Right_side   Support  Confidence  \\\n",
      "327  LUNCH BAG RED RETROSPOT,JUMBO BAG RED RETROSPO...  0.012308    0.102627   \n",
      "154    JUMBO BAG RED RETROSPOT,LUNCH BAG  BLACK SKULL.  0.017822    0.148604   \n",
      "165  NATURAL SLATE HEART CHALKBOARD ,JUMBO BAG RED ...  0.014671    0.122332   \n",
      "159    LUNCH BAG RED RETROSPOT,JUMBO BAG RED RETROSPOT  0.024518    0.204433   \n",
      "177  SET OF 3 CAKE TINS PANTRY DESIGN ,JUMBO BAG RE...  0.012603    0.105090   \n",
      "\n",
      "         Lift  \n",
      "327  4.435244  \n",
      "154  4.013896  \n",
      "165  3.894673  \n",
      "159  3.585884  \n",
      "177  3.499335  \n"
     ]
    }
   ],
   "source": [
    "result3 = list(apriori(transaction_list, min_support=0.01, min_confidence=0.1))\n",
    "result3_df = convert_to_df(result3)\n",
    "# sort all acquired rules descending by lift\n",
    "task3= result3_df[result3_df['Left_side'] == 'JUMBO BAG PINK POLKADOT']\n",
    "task3 = task3.sort_values(by='Lift', ascending=False)\n",
    "print(task3.head(5))"
   ]
  },
  {
   "cell_type": "code",
   "execution_count": 72,
   "metadata": {},
   "outputs": [
    {
     "data": {
      "text/html": [
       "<div>\n",
       "<style scoped>\n",
       "    .dataframe tbody tr th:only-of-type {\n",
       "        vertical-align: middle;\n",
       "    }\n",
       "\n",
       "    .dataframe tbody tr th {\n",
       "        vertical-align: top;\n",
       "    }\n",
       "\n",
       "    .dataframe thead th {\n",
       "        text-align: right;\n",
       "    }\n",
       "</style>\n",
       "<table border=\"1\" class=\"dataframe\">\n",
       "  <thead>\n",
       "    <tr style=\"text-align: right;\">\n",
       "      <th></th>\n",
       "      <th>InvoiceNo</th>\n",
       "      <th>StockCode</th>\n",
       "      <th>Description</th>\n",
       "      <th>Quantity</th>\n",
       "      <th>InvoiceDate</th>\n",
       "      <th>UnitPrice</th>\n",
       "      <th>CustomerID</th>\n",
       "      <th>Country</th>\n",
       "      <th>multiple_description</th>\n",
       "    </tr>\n",
       "  </thead>\n",
       "  <tbody>\n",
       "    <tr>\n",
       "      <th>4</th>\n",
       "      <td>536378</td>\n",
       "      <td>22386</td>\n",
       "      <td>JUMBO BAG PINK POLKADOT</td>\n",
       "      <td>10</td>\n",
       "      <td>1/12/2010 9:37</td>\n",
       "      <td>1.95</td>\n",
       "      <td>14688.0</td>\n",
       "      <td>United Kingdom</td>\n",
       "      <td>True</td>\n",
       "    </tr>\n",
       "    <tr>\n",
       "      <th>5</th>\n",
       "      <td>536378</td>\n",
       "      <td>20725</td>\n",
       "      <td>LUNCH BAG RED RETROSPOT</td>\n",
       "      <td>10</td>\n",
       "      <td>1/12/2010 9:37</td>\n",
       "      <td>1.65</td>\n",
       "      <td>14688.0</td>\n",
       "      <td>United Kingdom</td>\n",
       "      <td>True</td>\n",
       "    </tr>\n",
       "    <tr>\n",
       "      <th>6</th>\n",
       "      <td>536378</td>\n",
       "      <td>21212</td>\n",
       "      <td>PACK OF 72 RETROSPOT CAKE CASES</td>\n",
       "      <td>120</td>\n",
       "      <td>1/12/2010 9:37</td>\n",
       "      <td>0.42</td>\n",
       "      <td>14688.0</td>\n",
       "      <td>United Kingdom</td>\n",
       "      <td>True</td>\n",
       "    </tr>\n",
       "    <tr>\n",
       "      <th>7</th>\n",
       "      <td>536384</td>\n",
       "      <td>22457</td>\n",
       "      <td>NATURAL SLATE HEART CHALKBOARD</td>\n",
       "      <td>12</td>\n",
       "      <td>1/12/2010 9:53</td>\n",
       "      <td>2.95</td>\n",
       "      <td>18074.0</td>\n",
       "      <td>United Kingdom</td>\n",
       "      <td>True</td>\n",
       "    </tr>\n",
       "    <tr>\n",
       "      <th>8</th>\n",
       "      <td>536384</td>\n",
       "      <td>22469</td>\n",
       "      <td>HEART OF WICKER SMALL</td>\n",
       "      <td>40</td>\n",
       "      <td>1/12/2010 9:53</td>\n",
       "      <td>1.45</td>\n",
       "      <td>18074.0</td>\n",
       "      <td>United Kingdom</td>\n",
       "      <td>True</td>\n",
       "    </tr>\n",
       "  </tbody>\n",
       "</table>\n",
       "</div>"
      ],
      "text/plain": [
       "   InvoiceNo StockCode                      Description  Quantity  \\\n",
       "4     536378     22386          JUMBO BAG PINK POLKADOT        10   \n",
       "5     536378     20725          LUNCH BAG RED RETROSPOT        10   \n",
       "6     536378     21212  PACK OF 72 RETROSPOT CAKE CASES       120   \n",
       "7     536384     22457  NATURAL SLATE HEART CHALKBOARD         12   \n",
       "8     536384     22469            HEART OF WICKER SMALL        40   \n",
       "\n",
       "      InvoiceDate  UnitPrice  CustomerID         Country  multiple_description  \n",
       "4  1/12/2010 9:37       1.95     14688.0  United Kingdom                  True  \n",
       "5  1/12/2010 9:37       1.65     14688.0  United Kingdom                  True  \n",
       "6  1/12/2010 9:37       0.42     14688.0  United Kingdom                  True  \n",
       "7  1/12/2010 9:53       2.95     18074.0  United Kingdom                  True  \n",
       "8  1/12/2010 9:53       1.45     18074.0  United Kingdom                  True  "
      ]
     },
     "execution_count": 72,
     "metadata": {},
     "output_type": "execute_result"
    }
   ],
   "source": [
    "data1['multiple_description'] = data1.groupby(['InvoiceDate', 'InvoiceNo'])['Description'].transform('nunique') > 1\n",
    "multiple_locations_df = data1[data1['multiple_description'] == True]\n",
    "multiple_locations_df.head(5)"
   ]
  }
 ],
 "metadata": {
  "kernelspec": {
   "display_name": "Python 3 (ipykernel)",
   "language": "python",
   "name": "python3"
  },
  "language_info": {
   "codemirror_mode": {
    "name": "ipython",
    "version": 3
   },
   "file_extension": ".py",
   "mimetype": "text/x-python",
   "name": "python",
   "nbconvert_exporter": "python",
   "pygments_lexer": "ipython3",
   "version": "3.10.9"
  }
 },
 "nbformat": 4,
 "nbformat_minor": 2
}
