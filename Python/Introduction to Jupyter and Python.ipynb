{
 "cells": [
  {
   "cell_type": "code",
   "execution_count": 90,
   "id": "68522667",
   "metadata": {},
   "outputs": [
    {
     "data": {
      "text/plain": [
       "['aryan', 'Patel', '30', 30]"
      ]
     },
     "execution_count": 90,
     "metadata": {},
     "output_type": "execute_result"
    }
   ],
   "source": [
    "list1 = [\"aryan\",\"Patel\",\"30\",30]\n",
    "list1"
   ]
  },
  {
   "cell_type": "code",
   "execution_count": 91,
   "id": "15f9b5d4",
   "metadata": {},
   "outputs": [
    {
     "data": {
      "text/plain": [
       "['aryan', 'Patel', '30', 30]"
      ]
     },
     "execution_count": 91,
     "metadata": {},
     "output_type": "execute_result"
    }
   ],
   "source": [
    "list2 = list1\n",
    "list2"
   ]
  },
  {
   "cell_type": "code",
   "execution_count": 92,
   "id": "779ff573",
   "metadata": {},
   "outputs": [],
   "source": [
    "list3 = list1.copy()"
   ]
  },
  {
   "cell_type": "code",
   "execution_count": 93,
   "id": "8f575c43",
   "metadata": {},
   "outputs": [
    {
     "data": {
      "text/plain": [
       "['aryan', 'Patel', '30', 30]"
      ]
     },
     "execution_count": 93,
     "metadata": {},
     "output_type": "execute_result"
    }
   ],
   "source": [
    "list3"
   ]
  },
  {
   "cell_type": "code",
   "execution_count": 94,
   "id": "79be1d41",
   "metadata": {},
   "outputs": [
    {
     "data": {
      "text/plain": [
       "['aryan', 'Patel', '30', 30]"
      ]
     },
     "execution_count": 94,
     "metadata": {},
     "output_type": "execute_result"
    }
   ],
   "source": [
    "list2"
   ]
  },
  {
   "cell_type": "code",
   "execution_count": 95,
   "id": "cd3a9ac2",
   "metadata": {},
   "outputs": [],
   "source": [
    "list1.append(\"RRR\")"
   ]
  },
  {
   "cell_type": "code",
   "execution_count": 96,
   "id": "2e39d8cb",
   "metadata": {},
   "outputs": [
    {
     "data": {
      "text/plain": [
       "['aryan', 'Patel', '30', 30, 'RRR']"
      ]
     },
     "execution_count": 96,
     "metadata": {},
     "output_type": "execute_result"
    }
   ],
   "source": [
    "list2"
   ]
  },
  {
   "cell_type": "code",
   "execution_count": 97,
   "id": "3327404a",
   "metadata": {},
   "outputs": [
    {
     "data": {
      "text/plain": [
       "['aryan', 'Patel', '30', 30]"
      ]
     },
     "execution_count": 97,
     "metadata": {},
     "output_type": "execute_result"
    }
   ],
   "source": [
    "list3"
   ]
  },
  {
   "cell_type": "code",
   "execution_count": 98,
   "id": "3b2a646b",
   "metadata": {},
   "outputs": [],
   "source": [
    "# then we had type conversion"
   ]
  },
  {
   "cell_type": "code",
   "execution_count": 99,
   "id": "26e6d6de",
   "metadata": {},
   "outputs": [],
   "source": [
    "# creating tuple\n",
    "tuple1 = (\"Aryan\",\"Ketan\",\"Patel\")"
   ]
  },
  {
   "cell_type": "code",
   "execution_count": 100,
   "id": "3a6ab65e",
   "metadata": {},
   "outputs": [
    {
     "data": {
      "text/plain": [
       "('Aryan', 'Ketan', 'Patel')"
      ]
     },
     "execution_count": 100,
     "metadata": {},
     "output_type": "execute_result"
    }
   ],
   "source": [
    "tuple1"
   ]
  },
  {
   "cell_type": "code",
   "execution_count": 101,
   "id": "3a173ae7",
   "metadata": {},
   "outputs": [],
   "source": [
    "del tuple1"
   ]
  },
  {
   "cell_type": "code",
   "execution_count": 102,
   "id": "03cb63f6",
   "metadata": {},
   "outputs": [
    {
     "ename": "NameError",
     "evalue": "name 'tuple1' is not defined",
     "output_type": "error",
     "traceback": [
      "\u001b[1;31m---------------------------------------------------------------------------\u001b[0m",
      "\u001b[1;31mNameError\u001b[0m                                 Traceback (most recent call last)",
      "Cell \u001b[1;32mIn[102], line 1\u001b[0m\n\u001b[1;32m----> 1\u001b[0m tuple1\n",
      "\u001b[1;31mNameError\u001b[0m: name 'tuple1' is not defined"
     ]
    }
   ],
   "source": [
    "tuple1"
   ]
  },
  {
   "cell_type": "code",
   "execution_count": 103,
   "id": "f4f7e3c6",
   "metadata": {},
   "outputs": [],
   "source": [
    "#gives errors when we execute a tuple which is not present!!!!"
   ]
  },
  {
   "cell_type": "code",
   "execution_count": 104,
   "id": "f655afc3",
   "metadata": {},
   "outputs": [],
   "source": [
    "info = (\"Ahmedabad\",\"Delhi\",\"Mumbai\")"
   ]
  },
  {
   "cell_type": "code",
   "execution_count": 105,
   "id": "168329a2",
   "metadata": {},
   "outputs": [
    {
     "data": {
      "text/plain": [
       "('Delhi', 'Mumbai')"
      ]
     },
     "execution_count": 105,
     "metadata": {},
     "output_type": "execute_result"
    }
   ],
   "source": [
    "info[1:3]"
   ]
  },
  {
   "cell_type": "code",
   "execution_count": 106,
   "id": "f5a0ddbc",
   "metadata": {},
   "outputs": [],
   "source": [
    "# changes being applied to tuple by changing to list"
   ]
  },
  {
   "cell_type": "code",
   "execution_count": 107,
   "id": "f429c7d5",
   "metadata": {},
   "outputs": [
    {
     "data": {
      "text/plain": [
       "tuple"
      ]
     },
     "execution_count": 107,
     "metadata": {},
     "output_type": "execute_result"
    }
   ],
   "source": [
    "type(info)"
   ]
  },
  {
   "cell_type": "code",
   "execution_count": 108,
   "id": "4e4d95d8",
   "metadata": {},
   "outputs": [],
   "source": [
    "list1 = list(info)"
   ]
  },
  {
   "cell_type": "code",
   "execution_count": 109,
   "id": "38049e26",
   "metadata": {},
   "outputs": [],
   "source": [
    "list1.append(\"New City69\")"
   ]
  },
  {
   "cell_type": "code",
   "execution_count": 110,
   "id": "31dab713",
   "metadata": {},
   "outputs": [],
   "source": [
    "info = tuple(list1)"
   ]
  },
  {
   "cell_type": "code",
   "execution_count": 111,
   "id": "34d6c627",
   "metadata": {},
   "outputs": [
    {
     "data": {
      "text/plain": [
       "('Ahmedabad', 'Delhi', 'Mumbai', 'New City69')"
      ]
     },
     "execution_count": 111,
     "metadata": {},
     "output_type": "execute_result"
    }
   ],
   "source": [
    "info"
   ]
  },
  {
   "cell_type": "code",
   "execution_count": 112,
   "id": "4b12433d",
   "metadata": {},
   "outputs": [],
   "source": [
    "# thus we made changes to the tuple by changing it to list and then back to tuple"
   ]
  },
  {
   "cell_type": "code",
   "execution_count": 113,
   "id": "4be565e2",
   "metadata": {},
   "outputs": [],
   "source": [
    "l1 = [1,2,3,\"Data\"]\n",
    "l2 = [4,5,6,\"Science\"]"
   ]
  },
  {
   "cell_type": "code",
   "execution_count": 114,
   "id": "f6072381",
   "metadata": {},
   "outputs": [
    {
     "data": {
      "text/plain": [
       "[1, 2, 3, 'Data', 4, 5, 6, 'Science']"
      ]
     },
     "execution_count": 114,
     "metadata": {},
     "output_type": "execute_result"
    }
   ],
   "source": [
    "l3 = l1 + l2\n",
    "l3"
   ]
  },
  {
   "cell_type": "code",
   "execution_count": 115,
   "id": "02ac47cb",
   "metadata": {},
   "outputs": [],
   "source": [
    "t1 = tuple(l1)\n",
    "t2 = tuple(l2)"
   ]
  },
  {
   "cell_type": "code",
   "execution_count": 116,
   "id": "d28cfb3c",
   "metadata": {},
   "outputs": [
    {
     "data": {
      "text/plain": [
       "(1, 2, 3, 'Data', 4, 5, 6, 'Science')"
      ]
     },
     "execution_count": 116,
     "metadata": {},
     "output_type": "execute_result"
    }
   ],
   "source": [
    "t3 = t1 + t2\n",
    "t3"
   ]
  },
  {
   "cell_type": "code",
   "execution_count": 117,
   "id": "0f04c4d5",
   "metadata": {},
   "outputs": [
    {
     "ename": "TypeError",
     "evalue": "can only concatenate list (not \"tuple\") to list",
     "output_type": "error",
     "traceback": [
      "\u001b[1;31m---------------------------------------------------------------------------\u001b[0m",
      "\u001b[1;31mTypeError\u001b[0m                                 Traceback (most recent call last)",
      "Cell \u001b[1;32mIn[117], line 1\u001b[0m\n\u001b[1;32m----> 1\u001b[0m OddMerger \u001b[39m=\u001b[39m l1 \u001b[39m+\u001b[39;49m t2\n",
      "\u001b[1;31mTypeError\u001b[0m: can only concatenate list (not \"tuple\") to list"
     ]
    }
   ],
   "source": [
    "OddMerger = l1 + t2"
   ]
  },
  {
   "cell_type": "code",
   "execution_count": 118,
   "id": "a3d57aab",
   "metadata": {},
   "outputs": [
    {
     "data": {
      "text/plain": [
       "[1, 2, 3, 'Data']"
      ]
     },
     "execution_count": 118,
     "metadata": {},
     "output_type": "execute_result"
    }
   ],
   "source": [
    "temp1 = l1\n",
    "temp1\n"
   ]
  },
  {
   "cell_type": "code",
   "execution_count": 119,
   "id": "3293fd1c",
   "metadata": {},
   "outputs": [
    {
     "data": {
      "text/plain": [
       "[1, 2, 3, 'Data']"
      ]
     },
     "execution_count": 119,
     "metadata": {},
     "output_type": "execute_result"
    }
   ],
   "source": [
    "temp1\n"
   ]
  },
  {
   "cell_type": "code",
   "execution_count": 120,
   "id": "f935ea1f",
   "metadata": {},
   "outputs": [],
   "source": [
    "temp1.reverse()"
   ]
  },
  {
   "cell_type": "code",
   "execution_count": 121,
   "id": "ec114120",
   "metadata": {},
   "outputs": [
    {
     "data": {
      "text/plain": [
       "['Data', 3, 2, 1]"
      ]
     },
     "execution_count": 121,
     "metadata": {},
     "output_type": "execute_result"
    }
   ],
   "source": [
    "temp1"
   ]
  },
  {
   "cell_type": "code",
   "execution_count": 122,
   "id": "55219f84",
   "metadata": {},
   "outputs": [],
   "source": [
    "#..........................................................................................................................."
   ]
  },
  {
   "cell_type": "code",
   "execution_count": 123,
   "id": "61af5ff4",
   "metadata": {},
   "outputs": [],
   "source": [
    "#..........................................................................................................................."
   ]
  },
  {
   "cell_type": "code",
   "execution_count": 124,
   "id": "4480fb41",
   "metadata": {},
   "outputs": [],
   "source": [
    "#..........................................................................................................................."
   ]
  },
  {
   "cell_type": "code",
   "execution_count": 125,
   "id": "b25b40f1",
   "metadata": {},
   "outputs": [],
   "source": [
    "s1 = {\"Lucknow\",\"Delhi\",\"Mumbai\",\"Ahmedabad\"}"
   ]
  },
  {
   "cell_type": "code",
   "execution_count": 126,
   "id": "e139f685",
   "metadata": {},
   "outputs": [
    {
     "data": {
      "text/plain": [
       "set"
      ]
     },
     "execution_count": 126,
     "metadata": {},
     "output_type": "execute_result"
    }
   ],
   "source": [
    "type(s1)"
   ]
  },
  {
   "cell_type": "code",
   "execution_count": 127,
   "id": "f5a7ba90",
   "metadata": {},
   "outputs": [
    {
     "data": {
      "text/plain": [
       "{'Ahmedabad', 'Delhi', 'Lucknow', 'Mumbai'}"
      ]
     },
     "execution_count": 127,
     "metadata": {},
     "output_type": "execute_result"
    }
   ],
   "source": [
    "s1"
   ]
  },
  {
   "cell_type": "code",
   "execution_count": 128,
   "id": "adab5018",
   "metadata": {},
   "outputs": [
    {
     "data": {
      "text/plain": [
       "{'Aryan', 'Ayush', 'Khushi', 'Pujan'}"
      ]
     },
     "execution_count": 128,
     "metadata": {},
     "output_type": "execute_result"
    }
   ],
   "source": [
    "s2 = {\"Aryan\",\"Khushi\",\"Ayush\",\"Aryan\",\"Pujan\",\"Khushi\"}\n",
    "s2"
   ]
  },
  {
   "cell_type": "code",
   "execution_count": 129,
   "id": "4b79d643",
   "metadata": {},
   "outputs": [],
   "source": [
    "# as we can see above set prints values only once i.e. it ignores duplicate values"
   ]
  },
  {
   "cell_type": "code",
   "execution_count": 130,
   "id": "d0a5221d",
   "metadata": {},
   "outputs": [
    {
     "name": "stdout",
     "output_type": "stream",
     "text": [
      "{'Aryan', 'Khushi', 'Ayush', 'Pujan'}\n"
     ]
    }
   ],
   "source": [
    "print(s2)"
   ]
  },
  {
   "cell_type": "code",
   "execution_count": 131,
   "id": "f70e38a0",
   "metadata": {},
   "outputs": [],
   "source": [
    "s3 = s2.copy()"
   ]
  },
  {
   "cell_type": "code",
   "execution_count": 132,
   "id": "03dc1cb0",
   "metadata": {},
   "outputs": [],
   "source": [
    "s3.update(\"Paagal\")\n",
    "#see the runtime error it will generate"
   ]
  },
  {
   "cell_type": "code",
   "execution_count": 133,
   "id": "adc6f65c",
   "metadata": {},
   "outputs": [
    {
     "data": {
      "text/plain": [
       "{'Aryan', 'Ayush', 'Khushi', 'P', 'Pujan', 'a', 'g', 'l'}"
      ]
     },
     "execution_count": 133,
     "metadata": {},
     "output_type": "execute_result"
    }
   ],
   "source": [
    "s3"
   ]
  },
  {
   "cell_type": "code",
   "execution_count": 134,
   "id": "02b88f20",
   "metadata": {},
   "outputs": [],
   "source": [
    "# in order to use it appropiately we should pass it as a list"
   ]
  },
  {
   "cell_type": "code",
   "execution_count": 135,
   "id": "f9d7872f",
   "metadata": {},
   "outputs": [
    {
     "data": {
      "text/plain": [
       "{'Aryan', 'Ayush', 'Genius', 'Khushi', 'Pujan'}"
      ]
     },
     "execution_count": 135,
     "metadata": {},
     "output_type": "execute_result"
    }
   ],
   "source": [
    "# i.e.\n",
    "s2.update([\"Genius\"])\n",
    "s2"
   ]
  },
  {
   "cell_type": "code",
   "execution_count": 136,
   "id": "2f96998a",
   "metadata": {},
   "outputs": [],
   "source": [
    "# theme has been changed"
   ]
  },
  {
   "cell_type": "code",
   "execution_count": 137,
   "id": "5d7fe913",
   "metadata": {},
   "outputs": [],
   "source": [
    "data_science = {\"Manipulation\" : \"SQL\",\n",
    "               \"Visualization\" : \"Tableau\",\n",
    "               \"Programming\" : \"Python\"}"
   ]
  },
  {
   "cell_type": "code",
   "execution_count": 138,
   "id": "ea1b8806",
   "metadata": {},
   "outputs": [
    {
     "data": {
      "text/plain": [
       "{'Manipulation': 'SQL', 'Visualization': 'Tableau', 'Programming': 'Python'}"
      ]
     },
     "execution_count": 138,
     "metadata": {},
     "output_type": "execute_result"
    }
   ],
   "source": [
    "data_science"
   ]
  },
  {
   "cell_type": "code",
   "execution_count": 139,
   "id": "48e3d180",
   "metadata": {},
   "outputs": [
    {
     "data": {
      "text/plain": [
       "'Tableau'"
      ]
     },
     "execution_count": 139,
     "metadata": {},
     "output_type": "execute_result"
    }
   ],
   "source": [
    "data_science[\"Visualization\"]"
   ]
  },
  {
   "cell_type": "code",
   "execution_count": 140,
   "id": "7577b539",
   "metadata": {},
   "outputs": [
    {
     "data": {
      "text/plain": [
       "dict_keys(['Manipulation', 'Visualization', 'Programming'])"
      ]
     },
     "execution_count": 140,
     "metadata": {},
     "output_type": "execute_result"
    }
   ],
   "source": [
    "data_science.keys()"
   ]
  },
  {
   "cell_type": "code",
   "execution_count": 141,
   "id": "77c38c98",
   "metadata": {},
   "outputs": [
    {
     "data": {
      "text/plain": [
       "dict_values(['SQL', 'Tableau', 'Python'])"
      ]
     },
     "execution_count": 141,
     "metadata": {},
     "output_type": "execute_result"
    }
   ],
   "source": [
    "data_science.values()"
   ]
  },
  {
   "cell_type": "code",
   "execution_count": 142,
   "id": "3b86e96d",
   "metadata": {},
   "outputs": [
    {
     "data": {
      "text/plain": [
       "{'Manipulation': 'SQL', 'Visualization': 'Tableau', 'Programming': 'Python'}"
      ]
     },
     "execution_count": 142,
     "metadata": {},
     "output_type": "execute_result"
    }
   ],
   "source": [
    "data_science"
   ]
  },
  {
   "cell_type": "code",
   "execution_count": 143,
   "id": "98bd7015",
   "metadata": {},
   "outputs": [
    {
     "data": {
      "text/plain": [
       "'Python'"
      ]
     },
     "execution_count": 143,
     "metadata": {},
     "output_type": "execute_result"
    }
   ],
   "source": [
    "#aa nakkamu che\n",
    "data_science.get(\"Programming\")"
   ]
  },
  {
   "cell_type": "code",
   "execution_count": 144,
   "id": "14a0b7cd",
   "metadata": {},
   "outputs": [
    {
     "data": {
      "text/plain": [
       "'SQL'"
      ]
     },
     "execution_count": 144,
     "metadata": {},
     "output_type": "execute_result"
    }
   ],
   "source": [
    "data_science[\"Manipulation\"]"
   ]
  },
  {
   "cell_type": "code",
   "execution_count": 148,
   "id": "ebd393e5",
   "metadata": {},
   "outputs": [
    {
     "data": {
      "text/plain": [
       "'Tableau'"
      ]
     },
     "execution_count": 148,
     "metadata": {},
     "output_type": "execute_result"
    }
   ],
   "source": [
    "data_science.setdefault(\"Visualization\")"
   ]
  },
  {
   "cell_type": "code",
   "execution_count": 164,
   "id": "28907651",
   "metadata": {},
   "outputs": [
    {
     "data": {
      "text/plain": [
       "'NayeWalaDataValue'"
      ]
     },
     "execution_count": 164,
     "metadata": {},
     "output_type": "execute_result"
    }
   ],
   "source": [
    "data_science.setdefault(\"NayeWalaDataType\",\"NayeWalaDataValue\")"
   ]
  },
  {
   "cell_type": "code",
   "execution_count": 166,
   "metadata": {},
   "outputs": [
    {
     "data": {
      "text/plain": [
       "{'Manipulation': 'SQL',\n",
       " 'Visualization': 'Tableau',\n",
       " 'Programming': 'Python',\n",
       " 'NayeWalaDataType': 'NayeWalaDataValue'}"
      ]
     },
     "execution_count": 166,
     "metadata": {},
     "output_type": "execute_result"
    }
   ],
   "source": [
    "data_science\n"
   ]
  },
  {
   "cell_type": "code",
   "execution_count": null,
   "id": "cf05603a",
   "metadata": {},
   "outputs": [],
   "source": []
  }
 ],
 "metadata": {
  "kernelspec": {
   "display_name": "Python 3 (ipykernel)",
   "language": "python",
   "name": "python3"
  },
  "language_info": {
   "codemirror_mode": {
    "name": "ipython",
    "version": 3
   },
   "file_extension": ".py",
   "mimetype": "text/x-python",
   "name": "python",
   "nbconvert_exporter": "python",
   "pygments_lexer": "ipython3",
   "version": "3.10.9"
  }
 },
 "nbformat": 4,
 "nbformat_minor": 5
}
